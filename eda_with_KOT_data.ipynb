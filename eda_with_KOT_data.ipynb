{
 "cells": [
  {
   "cell_type": "markdown",
   "metadata": {},
   "source": [
    "# Get POI data from KOT open api"
   ]
  },
  {
   "cell_type": "markdown",
   "metadata": {},
   "source": [
    "Get POI data for Seoul and put it to MongoDB (local)"
   ]
  },
  {
   "cell_type": "code",
   "execution_count": 1,
   "metadata": {},
   "outputs": [],
   "source": [
    "# import libraries\n",
    "import pandas as pd\n",
    "import numpy as np\n",
    "import pymongo\n",
    "import time\n",
    "import random\n",
    "import json\n",
    "import seaborn as sns\n",
    "\n",
    "import urllib.request as MyURL\n",
    "from bs4 import BeautifulSoup\n",
    "from datetime import datetime\n",
    "from matplotlib import pyplot as plt\n"
   ]
  },
  {
   "cell_type": "code",
   "execution_count": 2,
   "metadata": {},
   "outputs": [],
   "source": [
    "# set mongodb\n",
    "from pymongo import MongoClient \n",
    "client = MongoClient('localhost', 27017)"
   ]
  },
  {
   "cell_type": "code",
   "execution_count": 3,
   "metadata": {},
   "outputs": [],
   "source": [
    "# set database name\n",
    "db = client['cp_seoul']"
   ]
  },
  {
   "cell_type": "code",
   "execution_count": 4,
   "metadata": {},
   "outputs": [],
   "source": [
    "# set collection name\n",
    "collection = db['seoul']"
   ]
  },
  {
   "cell_type": "code",
   "execution_count": 5,
   "metadata": {},
   "outputs": [],
   "source": [
    "# API key for data.go.kr\n",
    "key = 'UiZuCz3TStJ3sDC1QBw4lZQYD%2BrwwjibhI5fSSaoGXjP3b00MseMmQ%2FNIPHLqZoVQgt8KVBAaoQ0ob7rQAMblg%3D%3D'"
   ]
  },
  {
   "cell_type": "code",
   "execution_count": null,
   "metadata": {},
   "outputs": [],
   "source": [
    "# API URL for get poi list \n",
    "#url = f'http://api.visitkorea.or.kr/openapi/service/rest/EngService/areaBasedList?ServiceKey={key}&contentTypeId=80&areaCode=1&sigunguCode=&cat1=&cat2=&cat3=&listYN=Y&MobileOS=ETC&MobileApp=TourAPI3.0_Guide&arrange=A&numOfRows=240&pageNo=1'"
   ]
  },
  {
   "cell_type": "code",
   "execution_count": null,
   "metadata": {},
   "outputs": [],
   "source": [
    "# Every place in Seoul\n",
    "url = f'http://api.visitkorea.or.kr/openapi/service/rest/EngService/areaBasedList?ServiceKey={key}&contentTypeId=&areaCode=1&sigunguCode=&cat1=&cat2=&cat3=&listYN=Y&MobileOS=ETC&MobileApp=TourAPI3.0_Guide&arrange=A&numOfRows=1200&pageNo=1'"
   ]
  },
  {
   "cell_type": "code",
   "execution_count": null,
   "metadata": {},
   "outputs": [],
   "source": [
    "# get data from api server\n",
    "response = MyURL.urlopen(url)"
   ]
  },
  {
   "cell_type": "code",
   "execution_count": null,
   "metadata": {},
   "outputs": [],
   "source": [
    "# parsing with BS4\n",
    "results = BeautifulSoup(response, \"html.parser\")"
   ]
  },
  {
   "cell_type": "code",
   "execution_count": null,
   "metadata": {},
   "outputs": [],
   "source": [
    "# parse and make a document for mongo db\n",
    "row = 0\n",
    "for result in results.findAll('items'):\n",
    "    for item in result.findAll('item'):\n",
    "        row += 1\n",
    "        record = {}\n",
    "        for i in item:\n",
    "            record[i.name] = i.contents[0]\n",
    "#             print(i.name, i.contents)\n",
    "#         print(record)\n",
    "        collection.insert_one(record)\n",
    "\n",
    "print(row)"
   ]
  },
  {
   "cell_type": "markdown",
   "metadata": {},
   "source": [
    "#### Get detail information for POI"
   ]
  },
  {
   "cell_type": "code",
   "execution_count": 6,
   "metadata": {},
   "outputs": [],
   "source": [
    "a_record = (collection.find_one({'contentid': '1266515'}))"
   ]
  },
  {
   "cell_type": "code",
   "execution_count": 7,
   "metadata": {},
   "outputs": [
    {
     "data": {
      "text/plain": [
       "{'_id': ObjectId('5db26b80c36b1f23ca16b568'),\n",
       " 'addr1': '20, Nambusunhwan-ro 64-gil, Yangcheon-gu, Seoul',\n",
       " 'areacode': '1',\n",
       " 'cat1': 'A02',\n",
       " 'cat2': 'A0202',\n",
       " 'cat3': 'A02020700',\n",
       " 'contentid': '1266515',\n",
       " 'contenttypeid': '76',\n",
       " 'createdtime': '20110428140717',\n",
       " 'firstimage': 'http://tong.visitkorea.or.kr/cms/resource/06/2611706_image2_1.bmp',\n",
       " 'firstimage2': 'http://tong.visitkorea.or.kr/cms/resource/06/2611706_image2_1.bmp',\n",
       " 'mapx': '126.8300634330',\n",
       " 'mapy': '37.5274172505',\n",
       " 'masterid': '1265735',\n",
       " 'mlevel': '6',\n",
       " 'modifiedtime': '20190830140812',\n",
       " 'readcount': '12323',\n",
       " 'sigungucode': '19',\n",
       " 'tel': '+82-2-2604-3004',\n",
       " 'title': 'Seoseoul Lake Park (서서울호수공원)',\n",
       " 'zipcode': '07916'}"
      ]
     },
     "execution_count": 7,
     "metadata": {},
     "output_type": "execute_result"
    }
   ],
   "source": [
    "a_record"
   ]
  },
  {
   "cell_type": "code",
   "execution_count": 8,
   "metadata": {},
   "outputs": [],
   "source": [
    "def get_detail(collection, content_id, type_id, key):\n",
    "    url = f'http://api.visitkorea.or.kr/openapi/service/rest/EngService/detailCommon?ServiceKey={key}&contentTypeId=&contentId={content_id}&MobileOS=ETC&MobileApp=TourAPI3.0_Guide&defaultYN=Y&firstImageYN=Y&areacodeYN=Y&catcodeYN=Y&addrinfoYN=Y&mapinfoYN=Y&overviewYN=Y&transGuideYN=Y'\n",
    "    response = MyURL.urlopen(url)\n",
    "    results = BeautifulSoup(response, \"html.parser\")\n",
    "\n",
    "    document = collection.find_one({'contentid': content_id})\n",
    "\n",
    "#     print(url)\n",
    "    for result in results.findAll('items'):\n",
    "        for item in result.findAll('item'):\n",
    "            for i in item:\n",
    "                if len(i) > 0:\n",
    "                    document[i.name] = i.contents[0]\n",
    "\n",
    "    return document\n"
   ]
  },
  {
   "cell_type": "code",
   "execution_count": 9,
   "metadata": {},
   "outputs": [
    {
     "data": {
      "text/plain": [
       "{'_id': ObjectId('5db26b80c36b1f23ca16b568'),\n",
       " 'addr1': '20, Nambusunhwan-ro 64-gil, Yangcheon-gu, Seoul',\n",
       " 'areacode': '1',\n",
       " 'cat1': 'A02',\n",
       " 'cat2': 'A0202',\n",
       " 'cat3': 'A02020700',\n",
       " 'contentid': '1266515',\n",
       " 'contenttypeid': '76',\n",
       " 'createdtime': '20110428140717',\n",
       " 'firstimage': 'http://tong.visitkorea.or.kr/cms/resource/06/2611706_image2_1.bmp',\n",
       " 'firstimage2': 'http://tong.visitkorea.or.kr/cms/resource/06/2611706_image2_1.bmp',\n",
       " 'mapx': '126.8300634330',\n",
       " 'mapy': '37.5274172505',\n",
       " 'masterid': '1265735',\n",
       " 'mlevel': '6',\n",
       " 'modifiedtime': '20190830140812',\n",
       " 'readcount': '12323',\n",
       " 'sigungucode': '19',\n",
       " 'tel': '+82-2-2604-3004',\n",
       " 'title': 'Seoseoul Lake Park (서서울호수공원)',\n",
       " 'zipcode': '07916'}"
      ]
     },
     "execution_count": 9,
     "metadata": {},
     "output_type": "execute_result"
    }
   ],
   "source": [
    "a_record"
   ]
  },
  {
   "cell_type": "code",
   "execution_count": 10,
   "metadata": {},
   "outputs": [
    {
     "data": {
      "text/plain": [
       "{'_id': ObjectId('5db26b80c36b1f23ca16b568'),\n",
       " 'addr1': '20, Nambusunhwan-ro 64-gil, Yangcheon-gu, Seoul',\n",
       " 'areacode': '1',\n",
       " 'cat1': 'A02',\n",
       " 'cat2': 'A0202',\n",
       " 'cat3': 'A02020700',\n",
       " 'contentid': '1266515',\n",
       " 'contenttypeid': '76',\n",
       " 'createdtime': '20110428140717',\n",
       " 'firstimage': 'http://tong.visitkorea.or.kr/cms/resource/06/2611706_image2_1.bmp',\n",
       " 'firstimage2': 'http://tong.visitkorea.or.kr/cms/resource/06/2611706_image2_1.bmp',\n",
       " 'mapx': '126.8300634330',\n",
       " 'mapy': '37.5274172505',\n",
       " 'masterid': '1265735',\n",
       " 'mlevel': '6',\n",
       " 'modifiedtime': '20190830140812',\n",
       " 'readcount': '12323',\n",
       " 'sigungucode': '19',\n",
       " 'tel': '+82-2-2604-3004',\n",
       " 'title': 'Seoseoul Lake Park (서서울호수공원)',\n",
       " 'zipcode': '07916',\n",
       " 'directions': 'Hwagok Station (Seoul Subway Line 5), Exit 5.<br>Take Bus No. 652, 6627 or 6625, and get off at Seoseoul Lake Park Bus Stop.',\n",
       " 'dongcode': '16',\n",
       " 'homepage': '<a href=\"http://www.yangcheon.go.kr/\" target=\"_blank\" class=\"web\" title=\"new window popup\">www.yangcheon.go.kr</a> (Korean, English, Chinese)',\n",
       " 'overview': 'Covering over 225,000㎡ of land in the southwestern part of Seoul, Seoseoul Lake Park (also known as West Lake Park) was opened in October 2009 to resolve the regional imbalance in the city. The central lake, a fountain that projects a small airplane sound, Mondrian garden where the famous media wall fountain is situated, a large event table that seats 100 people and a recycle garden all carry the themes of ‘water’ and ‘recycling’ that were established through the park development project. Also, Neunggolsan Mountain forest, which separates Seoul and Bucheon, as well as the hiking trails have been restored and added to the park. In addition, there are playgrounds for children, sports facilities including a football field, a basketball court and badminton courts, and a cultural plaza. With its vast space and 24-hour operation, the park provides a relaxing ground for the citizens of Seoul.'}"
      ]
     },
     "execution_count": 10,
     "metadata": {},
     "output_type": "execute_result"
    }
   ],
   "source": [
    "get_detail(collection, '1266515', '76', key)"
   ]
  },
  {
   "cell_type": "markdown",
   "metadata": {},
   "source": [
    "#### Loop through for all POIs in seoul\n"
   ]
  },
  {
   "cell_type": "code",
   "execution_count": 11,
   "metadata": {},
   "outputs": [],
   "source": [
    "cursors = collection.find()"
   ]
  },
  {
   "cell_type": "code",
   "execution_count": 12,
   "metadata": {},
   "outputs": [
    {
     "name": "stdout",
     "output_type": "stream",
     "text": [
      "start at : 2019-12-11 22:19:32.617962\n"
     ]
    },
    {
     "ename": "DuplicateKeyError",
     "evalue": "E11000 duplicate key error collection: cp_seoul.seoul_poi index: _id_ dup key: { : ObjectId('5db26b80c36b1f23ca16b1d9') }",
     "output_type": "error",
     "traceback": [
      "\u001b[0;31m---------------------------------------------------------------------------\u001b[0m",
      "\u001b[0;31mDuplicateKeyError\u001b[0m                         Traceback (most recent call last)",
      "\u001b[0;32m<ipython-input-12-853298d22d6c>\u001b[0m in \u001b[0;36m<module>\u001b[0;34m\u001b[0m\n\u001b[1;32m     11\u001b[0m \u001b[0;34m\u001b[0m\u001b[0m\n\u001b[1;32m     12\u001b[0m     \u001b[0mpoi_detail\u001b[0m \u001b[0;34m=\u001b[0m \u001b[0mget_detail\u001b[0m\u001b[0;34m(\u001b[0m\u001b[0mcollection\u001b[0m\u001b[0;34m,\u001b[0m \u001b[0mcontent_id\u001b[0m\u001b[0;34m,\u001b[0m \u001b[0mtype_id\u001b[0m\u001b[0;34m,\u001b[0m \u001b[0mkey\u001b[0m\u001b[0;34m)\u001b[0m\u001b[0;34m\u001b[0m\u001b[0;34m\u001b[0m\u001b[0m\n\u001b[0;32m---> 13\u001b[0;31m     \u001b[0mnew_collection\u001b[0m\u001b[0;34m.\u001b[0m\u001b[0minsert_one\u001b[0m\u001b[0;34m(\u001b[0m\u001b[0mpoi_detail\u001b[0m\u001b[0;34m)\u001b[0m\u001b[0;34m\u001b[0m\u001b[0;34m\u001b[0m\u001b[0m\n\u001b[0m\u001b[1;32m     14\u001b[0m     \u001b[0mprint\u001b[0m\u001b[0;34m(\u001b[0m\u001b[0;34mf'{row} : update {content_id} at {datetime.now()}'\u001b[0m\u001b[0;34m)\u001b[0m\u001b[0;34m\u001b[0m\u001b[0;34m\u001b[0m\u001b[0m\n\u001b[1;32m     15\u001b[0m \u001b[0;34m\u001b[0m\u001b[0m\n",
      "\u001b[0;32m~/anaconda3/lib/python3.7/site-packages/pymongo/collection.py\u001b[0m in \u001b[0;36minsert_one\u001b[0;34m(self, document, bypass_document_validation, session)\u001b[0m\n\u001b[1;32m    698\u001b[0m                          \u001b[0mwrite_concern\u001b[0m\u001b[0;34m=\u001b[0m\u001b[0mwrite_concern\u001b[0m\u001b[0;34m,\u001b[0m\u001b[0;34m\u001b[0m\u001b[0;34m\u001b[0m\u001b[0m\n\u001b[1;32m    699\u001b[0m                          \u001b[0mbypass_doc_val\u001b[0m\u001b[0;34m=\u001b[0m\u001b[0mbypass_document_validation\u001b[0m\u001b[0;34m,\u001b[0m\u001b[0;34m\u001b[0m\u001b[0;34m\u001b[0m\u001b[0m\n\u001b[0;32m--> 700\u001b[0;31m                          session=session),\n\u001b[0m\u001b[1;32m    701\u001b[0m             write_concern.acknowledged)\n\u001b[1;32m    702\u001b[0m \u001b[0;34m\u001b[0m\u001b[0m\n",
      "\u001b[0;32m~/anaconda3/lib/python3.7/site-packages/pymongo/collection.py\u001b[0m in \u001b[0;36m_insert\u001b[0;34m(self, docs, ordered, check_keys, manipulate, write_concern, op_id, bypass_doc_val, session)\u001b[0m\n\u001b[1;32m    612\u001b[0m             return self._insert_one(\n\u001b[1;32m    613\u001b[0m                 \u001b[0mdocs\u001b[0m\u001b[0;34m,\u001b[0m \u001b[0mordered\u001b[0m\u001b[0;34m,\u001b[0m \u001b[0mcheck_keys\u001b[0m\u001b[0;34m,\u001b[0m \u001b[0mmanipulate\u001b[0m\u001b[0;34m,\u001b[0m \u001b[0mwrite_concern\u001b[0m\u001b[0;34m,\u001b[0m \u001b[0mop_id\u001b[0m\u001b[0;34m,\u001b[0m\u001b[0;34m\u001b[0m\u001b[0;34m\u001b[0m\u001b[0m\n\u001b[0;32m--> 614\u001b[0;31m                 bypass_doc_val, session)\n\u001b[0m\u001b[1;32m    615\u001b[0m \u001b[0;34m\u001b[0m\u001b[0m\n\u001b[1;32m    616\u001b[0m         \u001b[0mids\u001b[0m \u001b[0;34m=\u001b[0m \u001b[0;34m[\u001b[0m\u001b[0;34m]\u001b[0m\u001b[0;34m\u001b[0m\u001b[0;34m\u001b[0m\u001b[0m\n",
      "\u001b[0;32m~/anaconda3/lib/python3.7/site-packages/pymongo/collection.py\u001b[0m in \u001b[0;36m_insert_one\u001b[0;34m(self, doc, ordered, check_keys, manipulate, write_concern, op_id, bypass_doc_val, session)\u001b[0m\n\u001b[1;32m    600\u001b[0m \u001b[0;34m\u001b[0m\u001b[0m\n\u001b[1;32m    601\u001b[0m         self.__database.client._retryable_write(\n\u001b[0;32m--> 602\u001b[0;31m             acknowledged, _insert_command, session)\n\u001b[0m\u001b[1;32m    603\u001b[0m \u001b[0;34m\u001b[0m\u001b[0m\n\u001b[1;32m    604\u001b[0m         \u001b[0;32mif\u001b[0m \u001b[0;32mnot\u001b[0m \u001b[0misinstance\u001b[0m\u001b[0;34m(\u001b[0m\u001b[0mdoc\u001b[0m\u001b[0;34m,\u001b[0m \u001b[0mRawBSONDocument\u001b[0m\u001b[0;34m)\u001b[0m\u001b[0;34m:\u001b[0m\u001b[0;34m\u001b[0m\u001b[0;34m\u001b[0m\u001b[0m\n",
      "\u001b[0;32m~/anaconda3/lib/python3.7/site-packages/pymongo/mongo_client.py\u001b[0m in \u001b[0;36m_retryable_write\u001b[0;34m(self, retryable, func, session)\u001b[0m\n\u001b[1;32m   1278\u001b[0m         \u001b[0;34m\"\"\"Internal retryable write helper.\"\"\"\u001b[0m\u001b[0;34m\u001b[0m\u001b[0;34m\u001b[0m\u001b[0m\n\u001b[1;32m   1279\u001b[0m         \u001b[0;32mwith\u001b[0m \u001b[0mself\u001b[0m\u001b[0;34m.\u001b[0m\u001b[0m_tmp_session\u001b[0m\u001b[0;34m(\u001b[0m\u001b[0msession\u001b[0m\u001b[0;34m)\u001b[0m \u001b[0;32mas\u001b[0m \u001b[0ms\u001b[0m\u001b[0;34m:\u001b[0m\u001b[0;34m\u001b[0m\u001b[0;34m\u001b[0m\u001b[0m\n\u001b[0;32m-> 1280\u001b[0;31m             \u001b[0;32mreturn\u001b[0m \u001b[0mself\u001b[0m\u001b[0;34m.\u001b[0m\u001b[0m_retry_with_session\u001b[0m\u001b[0;34m(\u001b[0m\u001b[0mretryable\u001b[0m\u001b[0;34m,\u001b[0m \u001b[0mfunc\u001b[0m\u001b[0;34m,\u001b[0m \u001b[0ms\u001b[0m\u001b[0;34m,\u001b[0m \u001b[0;32mNone\u001b[0m\u001b[0;34m)\u001b[0m\u001b[0;34m\u001b[0m\u001b[0;34m\u001b[0m\u001b[0m\n\u001b[0m\u001b[1;32m   1281\u001b[0m \u001b[0;34m\u001b[0m\u001b[0m\n\u001b[1;32m   1282\u001b[0m     \u001b[0;32mdef\u001b[0m \u001b[0m__reset_server\u001b[0m\u001b[0;34m(\u001b[0m\u001b[0mself\u001b[0m\u001b[0;34m,\u001b[0m \u001b[0maddress\u001b[0m\u001b[0;34m)\u001b[0m\u001b[0;34m:\u001b[0m\u001b[0;34m\u001b[0m\u001b[0;34m\u001b[0m\u001b[0m\n",
      "\u001b[0;32m~/anaconda3/lib/python3.7/site-packages/pymongo/mongo_client.py\u001b[0m in \u001b[0;36m_retry_with_session\u001b[0;34m(self, retryable, func, session, bulk)\u001b[0m\n\u001b[1;32m   1231\u001b[0m                             \u001b[0;32mraise\u001b[0m \u001b[0mlast_error\u001b[0m\u001b[0;34m\u001b[0m\u001b[0;34m\u001b[0m\u001b[0m\n\u001b[1;32m   1232\u001b[0m                         \u001b[0mretryable\u001b[0m \u001b[0;34m=\u001b[0m \u001b[0;32mFalse\u001b[0m\u001b[0;34m\u001b[0m\u001b[0;34m\u001b[0m\u001b[0m\n\u001b[0;32m-> 1233\u001b[0;31m                     \u001b[0;32mreturn\u001b[0m \u001b[0mfunc\u001b[0m\u001b[0;34m(\u001b[0m\u001b[0msession\u001b[0m\u001b[0;34m,\u001b[0m \u001b[0msock_info\u001b[0m\u001b[0;34m,\u001b[0m \u001b[0mretryable\u001b[0m\u001b[0;34m)\u001b[0m\u001b[0;34m\u001b[0m\u001b[0;34m\u001b[0m\u001b[0m\n\u001b[0m\u001b[1;32m   1234\u001b[0m             \u001b[0;32mexcept\u001b[0m \u001b[0mServerSelectionTimeoutError\u001b[0m\u001b[0;34m:\u001b[0m\u001b[0;34m\u001b[0m\u001b[0;34m\u001b[0m\u001b[0m\n\u001b[1;32m   1235\u001b[0m                 \u001b[0;32mif\u001b[0m \u001b[0mis_retrying\u001b[0m\u001b[0;34m(\u001b[0m\u001b[0;34m)\u001b[0m\u001b[0;34m:\u001b[0m\u001b[0;34m\u001b[0m\u001b[0;34m\u001b[0m\u001b[0m\n",
      "\u001b[0;32m~/anaconda3/lib/python3.7/site-packages/pymongo/collection.py\u001b[0m in \u001b[0;36m_insert_command\u001b[0;34m(session, sock_info, retryable_write)\u001b[0m\n\u001b[1;32m    597\u001b[0m                 retryable_write=retryable_write)\n\u001b[1;32m    598\u001b[0m \u001b[0;34m\u001b[0m\u001b[0m\n\u001b[0;32m--> 599\u001b[0;31m             \u001b[0m_check_write_command_response\u001b[0m\u001b[0;34m(\u001b[0m\u001b[0mresult\u001b[0m\u001b[0;34m)\u001b[0m\u001b[0;34m\u001b[0m\u001b[0;34m\u001b[0m\u001b[0m\n\u001b[0m\u001b[1;32m    600\u001b[0m \u001b[0;34m\u001b[0m\u001b[0m\n\u001b[1;32m    601\u001b[0m         self.__database.client._retryable_write(\n",
      "\u001b[0;32m~/anaconda3/lib/python3.7/site-packages/pymongo/helpers.py\u001b[0m in \u001b[0;36m_check_write_command_response\u001b[0;34m(result)\u001b[0m\n\u001b[1;32m    215\u001b[0m     \u001b[0mwrite_errors\u001b[0m \u001b[0;34m=\u001b[0m \u001b[0mresult\u001b[0m\u001b[0;34m.\u001b[0m\u001b[0mget\u001b[0m\u001b[0;34m(\u001b[0m\u001b[0;34m\"writeErrors\"\u001b[0m\u001b[0;34m)\u001b[0m\u001b[0;34m\u001b[0m\u001b[0;34m\u001b[0m\u001b[0m\n\u001b[1;32m    216\u001b[0m     \u001b[0;32mif\u001b[0m \u001b[0mwrite_errors\u001b[0m\u001b[0;34m:\u001b[0m\u001b[0;34m\u001b[0m\u001b[0;34m\u001b[0m\u001b[0m\n\u001b[0;32m--> 217\u001b[0;31m         \u001b[0m_raise_last_write_error\u001b[0m\u001b[0;34m(\u001b[0m\u001b[0mwrite_errors\u001b[0m\u001b[0;34m)\u001b[0m\u001b[0;34m\u001b[0m\u001b[0;34m\u001b[0m\u001b[0m\n\u001b[0m\u001b[1;32m    218\u001b[0m \u001b[0;34m\u001b[0m\u001b[0m\n\u001b[1;32m    219\u001b[0m     \u001b[0merror\u001b[0m \u001b[0;34m=\u001b[0m \u001b[0mresult\u001b[0m\u001b[0;34m.\u001b[0m\u001b[0mget\u001b[0m\u001b[0;34m(\u001b[0m\u001b[0;34m\"writeConcernError\"\u001b[0m\u001b[0;34m)\u001b[0m\u001b[0;34m\u001b[0m\u001b[0;34m\u001b[0m\u001b[0m\n",
      "\u001b[0;32m~/anaconda3/lib/python3.7/site-packages/pymongo/helpers.py\u001b[0m in \u001b[0;36m_raise_last_write_error\u001b[0;34m(write_errors)\u001b[0m\n\u001b[1;32m    196\u001b[0m     \u001b[0merror\u001b[0m \u001b[0;34m=\u001b[0m \u001b[0mwrite_errors\u001b[0m\u001b[0;34m[\u001b[0m\u001b[0;34m-\u001b[0m\u001b[0;36m1\u001b[0m\u001b[0;34m]\u001b[0m\u001b[0;34m\u001b[0m\u001b[0;34m\u001b[0m\u001b[0m\n\u001b[1;32m    197\u001b[0m     \u001b[0;32mif\u001b[0m \u001b[0merror\u001b[0m\u001b[0;34m.\u001b[0m\u001b[0mget\u001b[0m\u001b[0;34m(\u001b[0m\u001b[0;34m\"code\"\u001b[0m\u001b[0;34m)\u001b[0m \u001b[0;34m==\u001b[0m \u001b[0;36m11000\u001b[0m\u001b[0;34m:\u001b[0m\u001b[0;34m\u001b[0m\u001b[0;34m\u001b[0m\u001b[0m\n\u001b[0;32m--> 198\u001b[0;31m         \u001b[0;32mraise\u001b[0m \u001b[0mDuplicateKeyError\u001b[0m\u001b[0;34m(\u001b[0m\u001b[0merror\u001b[0m\u001b[0;34m.\u001b[0m\u001b[0mget\u001b[0m\u001b[0;34m(\u001b[0m\u001b[0;34m\"errmsg\"\u001b[0m\u001b[0;34m)\u001b[0m\u001b[0;34m,\u001b[0m \u001b[0;36m11000\u001b[0m\u001b[0;34m,\u001b[0m \u001b[0merror\u001b[0m\u001b[0;34m)\u001b[0m\u001b[0;34m\u001b[0m\u001b[0;34m\u001b[0m\u001b[0m\n\u001b[0m\u001b[1;32m    199\u001b[0m     \u001b[0;32mraise\u001b[0m \u001b[0mWriteError\u001b[0m\u001b[0;34m(\u001b[0m\u001b[0merror\u001b[0m\u001b[0;34m.\u001b[0m\u001b[0mget\u001b[0m\u001b[0;34m(\u001b[0m\u001b[0;34m\"errmsg\"\u001b[0m\u001b[0;34m)\u001b[0m\u001b[0;34m,\u001b[0m \u001b[0merror\u001b[0m\u001b[0;34m.\u001b[0m\u001b[0mget\u001b[0m\u001b[0;34m(\u001b[0m\u001b[0;34m\"code\"\u001b[0m\u001b[0;34m)\u001b[0m\u001b[0;34m,\u001b[0m \u001b[0merror\u001b[0m\u001b[0;34m)\u001b[0m\u001b[0;34m\u001b[0m\u001b[0;34m\u001b[0m\u001b[0m\n\u001b[1;32m    200\u001b[0m \u001b[0;34m\u001b[0m\u001b[0m\n",
      "\u001b[0;31mDuplicateKeyError\u001b[0m: E11000 duplicate key error collection: cp_seoul.seoul_poi index: _id_ dup key: { : ObjectId('5db26b80c36b1f23ca16b1d9') }"
     ]
    }
   ],
   "source": [
    "print(f'start at : {datetime.now()}')\n",
    "row = 0\n",
    "\n",
    "new_collection = db['seoul_poi']\n",
    "\n",
    "for cursor in cursors:\n",
    "    content_id = cursor['contentid']\n",
    "    type_id = cursor['contenttypeid']\n",
    "\n",
    "    row += 1\n",
    "        \n",
    "    poi_detail = get_detail(collection, content_id, type_id, key)\n",
    "    new_collection.insert_one(poi_detail)\n",
    "    print(f'{row} : update {content_id} at {datetime.now()}')\n",
    "    \n",
    "#     new_value = {'$set': get_detail(collection, content_id, type_id, key)}\n",
    "#     content_query = {'contentid': content_id}\n",
    "#     collection.update_one(content_query, new_value)\n",
    "\n",
    "    #time.sleep(random.randint(4, 10))\n",
    "    \n",
    "print(f'end at : {datetime.now()}')\n",
    "\n",
    "    "
   ]
  },
  {
   "cell_type": "code",
   "execution_count": 13,
   "metadata": {},
   "outputs": [],
   "source": [
    "# Retrieve data sample(경복궁)\n",
    "new_collection = db['seoul_poi']\n",
    "cursors = new_collection.find({'contentid': '264337'})"
   ]
  },
  {
   "cell_type": "code",
   "execution_count": 14,
   "metadata": {},
   "outputs": [
    {
     "name": "stdout",
     "output_type": "stream",
     "text": [
      "{\"addr1\": \"161, Sajik-ro, Jongno-gu, Seoul\", \"areacode\": \"1\", \"cat1\": \"A02\", \"cat2\": \"A0201\", \"cat3\": \"A02010100\", \"contentid\": \"264337\", \"contenttypeid\": \"76\", \"createdtime\": \"20110225172850\", \"directions\": \"[Subway]<br />\\nGyeongbokgung Station (Seoul Subway Line 3) and Exit 5.<br/>\\nAnguk Station (Seoul Subway Line 3) and Exit 1. <br /><br />\\n\\n[Bus]<br />\\nTake Bus No. 1020, 7025,109, 171, 172, 601 or 606 and get off at Gyeongbokgung Palace Bus Stop.<br /><br />\\n\\nTake Jongno Bus No. 11 and get off at National Folk Musuem of Korea Bus Stop.\", \"dongcode\": \"36\", \"firstimage\": \"http://tong.visitkorea.or.kr/cms/resource/40/1568040_image2_1.jpg\", \"firstimage2\": \"http://tong.visitkorea.or.kr/cms/resource/40/1568040_image3_1.jpg\", \"homepage\": \"<a title=\\\"New window popup\\\" href=\\\"http://www.royalpalace.go.kr/\\\" target=\\\"_blank\\\">www.royalpalace.go.kr</a> (Korean, English)<br>\\n <a title=\\\"New window popup\\\" href=\\\"http://www.palaceguide.or.kr/\\\" target=\\\"_blank\\\">www.palaceguide.or.kr</a> (Korean only)<br>\\n <a title=\\\"New window popup\\\" href=\\\"http://www.rekor.or.kr/\\\" target=\\\"_blank\\\">www.rekor.or.kr</a> (Korean only)\", \"mapx\": \"126.9769930325\", \"mapy\": \"37.5788222356\", \"masterid\": \"126508\", \"mlevel\": \"6\", \"modifiedtime\": \"20190729165835\", \"overview\": \"Built in 1395, Gyeongbokgung Palace is also commonly referred to as the Northern Palace because its location is furthest north when compared to the neighboring palaces of Changdeokgung (Eastern Palace) and Gyeonghuigung (Western Palace) Palace. Gyeongbokgung Palace is arguably the most beautiful, and remains the largest of all five palaces. <br><br>\\nThe premises were once destroyed by fire during the Imjin War (Japanese Invasions, 1592-1598). However, all of the palace buildings were later restored under the leadership of Heungseondaewongun during the reign of King Gojong (1852-1919). <br>\\n <br>\\n Remarkably, the most representative edifices of the Joseon Dynasty, Gyeonghoeru Pavilion and Hyangwonjeong Pond have remained relatively intact. Woldae and the sculptures of Geunjeongjeon (The Royal Audience Chamber) represent past sculptures of contemporary art. <br>\\n <br>\\n The National Palace Museum of Korea is located south of Heungnyemun Gate, and the National Folk Museum is located on the eastern side within Hyangwonjeong.\", \"readcount\": \"1584257\", \"sigungucode\": \"23\", \"tel\": \"+82-2-3700-3900\", \"title\": \"Gyeongbokgung Palace (\\uacbd\\ubcf5\\uad81)\", \"zipcode\": \"03045\"}\n"
     ]
    }
   ],
   "source": [
    "for cursor in cursors:\n",
    "    cursor.pop('_id')\n",
    "    app_json = json.dumps(cursor, sort_keys=True)\n",
    "    print(app_json)"
   ]
  },
  {
   "cell_type": "markdown",
   "metadata": {},
   "source": [
    "### Understanding the dataset"
   ]
  },
  {
   "cell_type": "code",
   "execution_count": 15,
   "metadata": {},
   "outputs": [],
   "source": [
    "# Put the data into dataframe\n",
    "cursor = new_collection.find()\n",
    "\n",
    "# Expand the cursor and construct the DataFrame\n",
    "df =  pd.DataFrame(list(cursor))\n",
    "\n",
    "# Delete the _id\n",
    "del df['_id']\n"
   ]
  },
  {
   "cell_type": "code",
   "execution_count": 16,
   "metadata": {},
   "outputs": [],
   "source": [
    "cursor = new_collection.find({'title': {\"$regex\": u\"Bongeunsa\"}})"
   ]
  },
  {
   "cell_type": "code",
   "execution_count": 17,
   "metadata": {},
   "outputs": [
    {
     "name": "stdout",
     "output_type": "stream",
     "text": [
      "Bongeunsa Temple (Seoul) (봉은사 (서울)) 264594\n"
     ]
    }
   ],
   "source": [
    "for row in cursor:\n",
    "    print(row['title'], row['contentid'])"
   ]
  },
  {
   "cell_type": "code",
   "execution_count": 18,
   "metadata": {},
   "outputs": [
    {
     "data": {
      "text/html": [
       "<div>\n",
       "<style scoped>\n",
       "    .dataframe tbody tr th:only-of-type {\n",
       "        vertical-align: middle;\n",
       "    }\n",
       "\n",
       "    .dataframe tbody tr th {\n",
       "        vertical-align: top;\n",
       "    }\n",
       "\n",
       "    .dataframe thead th {\n",
       "        text-align: right;\n",
       "    }\n",
       "</style>\n",
       "<table border=\"1\" class=\"dataframe\">\n",
       "  <thead>\n",
       "    <tr style=\"text-align: right;\">\n",
       "      <th></th>\n",
       "      <th>0</th>\n",
       "      <th>1</th>\n",
       "      <th>2</th>\n",
       "      <th>3</th>\n",
       "      <th>4</th>\n",
       "    </tr>\n",
       "  </thead>\n",
       "  <tbody>\n",
       "    <tr>\n",
       "      <th>addr1</th>\n",
       "      <td>38, Donggyo-ro 29-gil, Mapo-gu, Seoul</td>\n",
       "      <td>31, Daehak-ro 12-gil, Jongno-gu, Seoul</td>\n",
       "      <td>3rd floor, 26, Eulji-ro 9-gil, Jung-gu, Seoul</td>\n",
       "      <td>22 Apgujeong-ro 8-gil, Gangnam-gu, Seoul</td>\n",
       "      <td>13th floor, 57, Myeongdong 2-gil, Jung-gu, Seoul</td>\n",
       "    </tr>\n",
       "    <tr>\n",
       "      <th>addr2</th>\n",
       "      <td>NaN</td>\n",
       "      <td>NaN</td>\n",
       "      <td>NaN</td>\n",
       "      <td>NaN</td>\n",
       "      <td>NaN</td>\n",
       "    </tr>\n",
       "    <tr>\n",
       "      <th>areacode</th>\n",
       "      <td>1</td>\n",
       "      <td>1</td>\n",
       "      <td>1</td>\n",
       "      <td>1</td>\n",
       "      <td>1</td>\n",
       "    </tr>\n",
       "    <tr>\n",
       "      <th>cat1</th>\n",
       "      <td>A05</td>\n",
       "      <td>A02</td>\n",
       "      <td>B02</td>\n",
       "      <td>A04</td>\n",
       "      <td>B02</td>\n",
       "    </tr>\n",
       "    <tr>\n",
       "      <th>cat2</th>\n",
       "      <td>A0502</td>\n",
       "      <td>A0206</td>\n",
       "      <td>B0201</td>\n",
       "      <td>A0401</td>\n",
       "      <td>B0201</td>\n",
       "    </tr>\n",
       "    <tr>\n",
       "      <th>cat3</th>\n",
       "      <td>A05020900</td>\n",
       "      <td>A02060600</td>\n",
       "      <td>B02010900</td>\n",
       "      <td>A04010600</td>\n",
       "      <td>B02010900</td>\n",
       "    </tr>\n",
       "    <tr>\n",
       "      <th>contentid</th>\n",
       "      <td>2480979</td>\n",
       "      <td>1240735</td>\n",
       "      <td>2444381</td>\n",
       "      <td>2009231</td>\n",
       "      <td>2542774</td>\n",
       "    </tr>\n",
       "    <tr>\n",
       "      <th>contenttypeid</th>\n",
       "      <td>82</td>\n",
       "      <td>78</td>\n",
       "      <td>80</td>\n",
       "      <td>79</td>\n",
       "      <td>80</td>\n",
       "    </tr>\n",
       "    <tr>\n",
       "      <th>createdtime</th>\n",
       "      <td>20170214145634</td>\n",
       "      <td>20110324102837</td>\n",
       "      <td>20161201153253</td>\n",
       "      <td>20150610141921</td>\n",
       "      <td>20180412102855</td>\n",
       "    </tr>\n",
       "    <tr>\n",
       "      <th>directions</th>\n",
       "      <td>[Subway]&lt;br /&gt;\\nHongik Univ. Station (Seoul Su...</td>\n",
       "      <td>[Subway]&lt;br&gt;Haehwa Station (Seoul Subway Line ...</td>\n",
       "      <td>Available</td>\n",
       "      <td>[Subway]&lt;br&gt;\\nSinsa Station (Seoul Subway Line...</td>\n",
       "      <td>Available</td>\n",
       "    </tr>\n",
       "    <tr>\n",
       "      <th>dongcode</th>\n",
       "      <td>27</td>\n",
       "      <td>23</td>\n",
       "      <td>30</td>\n",
       "      <td>25</td>\n",
       "      <td>66</td>\n",
       "    </tr>\n",
       "    <tr>\n",
       "      <th>firstimage</th>\n",
       "      <td>http://tong.visitkorea.or.kr/cms/resource/87/2...</td>\n",
       "      <td>http://tong.visitkorea.or.kr/cms/resource/99/1...</td>\n",
       "      <td>NaN</td>\n",
       "      <td>http://tong.visitkorea.or.kr/cms/resource/10/2...</td>\n",
       "      <td>NaN</td>\n",
       "    </tr>\n",
       "    <tr>\n",
       "      <th>firstimage2</th>\n",
       "      <td>http://tong.visitkorea.or.kr/cms/resource/87/2...</td>\n",
       "      <td>http://tong.visitkorea.or.kr/cms/resource/99/1...</td>\n",
       "      <td>NaN</td>\n",
       "      <td>http://tong.visitkorea.or.kr/cms/resource/10/2...</td>\n",
       "      <td>NaN</td>\n",
       "    </tr>\n",
       "    <tr>\n",
       "      <th>homepage</th>\n",
       "      <td>&lt;a title=\"open in new window\" href=\"http://www...</td>\n",
       "      <td>&lt;a href=\"http://www.1mclassic.com/\" target=\"_b...</td>\n",
       "      <td>http://cheonggye-stream.24guesthouse.co.kr/</td>\n",
       "      <td>&lt;a href=\"http://www.stylenanda.com/\" target=\"_...</td>\n",
       "      <td>&lt;br /&gt;&lt;a href=\"http://www.57hostel.com\" target...</td>\n",
       "    </tr>\n",
       "    <tr>\n",
       "      <th>mapx</th>\n",
       "      <td>126.9230428662</td>\n",
       "      <td>127.0035904971</td>\n",
       "      <td>126.9887145201</td>\n",
       "      <td>127.0222127370</td>\n",
       "      <td>126.9833929541</td>\n",
       "    </tr>\n",
       "    <tr>\n",
       "      <th>mapy</th>\n",
       "      <td>37.5621620943</td>\n",
       "      <td>37.5827472573</td>\n",
       "      <td>37.5670488146</td>\n",
       "      <td>37.5222657301</td>\n",
       "      <td>37.5610049770</td>\n",
       "    </tr>\n",
       "    <tr>\n",
       "      <th>masterid</th>\n",
       "      <td>2479328</td>\n",
       "      <td>1179932</td>\n",
       "      <td>2398917</td>\n",
       "      <td>2009182</td>\n",
       "      <td>2489973</td>\n",
       "    </tr>\n",
       "    <tr>\n",
       "      <th>mlevel</th>\n",
       "      <td>NaN</td>\n",
       "      <td>6</td>\n",
       "      <td>6</td>\n",
       "      <td>NaN</td>\n",
       "      <td>6</td>\n",
       "    </tr>\n",
       "    <tr>\n",
       "      <th>modifiedtime</th>\n",
       "      <td>20190125151640</td>\n",
       "      <td>20190318105737</td>\n",
       "      <td>20181229140714</td>\n",
       "      <td>20160504155545</td>\n",
       "      <td>20190712112648</td>\n",
       "    </tr>\n",
       "    <tr>\n",
       "      <th>overview</th>\n",
       "      <td>17℃ stands for the optimum temperature to pres...</td>\n",
       "      <td>1m Classic Art Hall, located in Daehang-ro is ...</td>\n",
       "      <td>Situated in the middle of downtown Seoul, 24 G...</td>\n",
       "      <td>3CE opened its flagship store in March 2015 at...</td>\n",
       "      <td>\\n(Korea Quality Premier Class) The name ‘57 M...</td>\n",
       "    </tr>\n",
       "    <tr>\n",
       "      <th>readcount</th>\n",
       "      <td>3832</td>\n",
       "      <td>5749</td>\n",
       "      <td>1624</td>\n",
       "      <td>19726</td>\n",
       "      <td>767</td>\n",
       "    </tr>\n",
       "    <tr>\n",
       "      <th>sigungucode</th>\n",
       "      <td>13</td>\n",
       "      <td>23</td>\n",
       "      <td>24</td>\n",
       "      <td>1</td>\n",
       "      <td>24</td>\n",
       "    </tr>\n",
       "    <tr>\n",
       "      <th>tel</th>\n",
       "      <td>NaN</td>\n",
       "      <td>+82-2-766-7623</td>\n",
       "      <td>NaN</td>\n",
       "      <td>+82-2-544-7724</td>\n",
       "      <td>+82-10-3262-3503</td>\n",
       "    </tr>\n",
       "    <tr>\n",
       "      <th>telname</th>\n",
       "      <td>17℃</td>\n",
       "      <td>NaN</td>\n",
       "      <td>Kim Gi-su</td>\n",
       "      <td>NaN</td>\n",
       "      <td>Ahn Sang-hyeon</td>\n",
       "    </tr>\n",
       "    <tr>\n",
       "      <th>title</th>\n",
       "      <td>17℃ (17도씨)</td>\n",
       "      <td>1m Classic Art Hall (1m 아트홀)</td>\n",
       "      <td>24 Guesthouse Myeongdong City (24게스트하우스 명동시티점)</td>\n",
       "      <td>3CE Cinema (스타일난다 시네마)</td>\n",
       "      <td>57 Myeongdong Hostel (57명동호스텔)</td>\n",
       "    </tr>\n",
       "    <tr>\n",
       "      <th>zipcode</th>\n",
       "      <td>03984</td>\n",
       "      <td>03086</td>\n",
       "      <td>04542</td>\n",
       "      <td>06028</td>\n",
       "      <td>04536</td>\n",
       "    </tr>\n",
       "  </tbody>\n",
       "</table>\n",
       "</div>"
      ],
      "text/plain": [
       "                                                               0  \\\n",
       "addr1                      38, Donggyo-ro 29-gil, Mapo-gu, Seoul   \n",
       "addr2                                                        NaN   \n",
       "areacode                                                       1   \n",
       "cat1                                                         A05   \n",
       "cat2                                                       A0502   \n",
       "cat3                                                   A05020900   \n",
       "contentid                                                2480979   \n",
       "contenttypeid                                                 82   \n",
       "createdtime                                       20170214145634   \n",
       "directions     [Subway]<br />\\nHongik Univ. Station (Seoul Su...   \n",
       "dongcode                                                      27   \n",
       "firstimage     http://tong.visitkorea.or.kr/cms/resource/87/2...   \n",
       "firstimage2    http://tong.visitkorea.or.kr/cms/resource/87/2...   \n",
       "homepage       <a title=\"open in new window\" href=\"http://www...   \n",
       "mapx                                              126.9230428662   \n",
       "mapy                                               37.5621620943   \n",
       "masterid                                                 2479328   \n",
       "mlevel                                                       NaN   \n",
       "modifiedtime                                      20190125151640   \n",
       "overview       17℃ stands for the optimum temperature to pres...   \n",
       "readcount                                                   3832   \n",
       "sigungucode                                                   13   \n",
       "tel                                                          NaN   \n",
       "telname                                                      17℃   \n",
       "title                                                 17℃ (17도씨)   \n",
       "zipcode                                                    03984   \n",
       "\n",
       "                                                               1  \\\n",
       "addr1                     31, Daehak-ro 12-gil, Jongno-gu, Seoul   \n",
       "addr2                                                        NaN   \n",
       "areacode                                                       1   \n",
       "cat1                                                         A02   \n",
       "cat2                                                       A0206   \n",
       "cat3                                                   A02060600   \n",
       "contentid                                                1240735   \n",
       "contenttypeid                                                 78   \n",
       "createdtime                                       20110324102837   \n",
       "directions     [Subway]<br>Haehwa Station (Seoul Subway Line ...   \n",
       "dongcode                                                      23   \n",
       "firstimage     http://tong.visitkorea.or.kr/cms/resource/99/1...   \n",
       "firstimage2    http://tong.visitkorea.or.kr/cms/resource/99/1...   \n",
       "homepage       <a href=\"http://www.1mclassic.com/\" target=\"_b...   \n",
       "mapx                                              127.0035904971   \n",
       "mapy                                               37.5827472573   \n",
       "masterid                                                 1179932   \n",
       "mlevel                                                         6   \n",
       "modifiedtime                                      20190318105737   \n",
       "overview       1m Classic Art Hall, located in Daehang-ro is ...   \n",
       "readcount                                                   5749   \n",
       "sigungucode                                                   23   \n",
       "tel                                               +82-2-766-7623   \n",
       "telname                                                      NaN   \n",
       "title                               1m Classic Art Hall (1m 아트홀)   \n",
       "zipcode                                                    03086   \n",
       "\n",
       "                                                               2  \\\n",
       "addr1              3rd floor, 26, Eulji-ro 9-gil, Jung-gu, Seoul   \n",
       "addr2                                                        NaN   \n",
       "areacode                                                       1   \n",
       "cat1                                                         B02   \n",
       "cat2                                                       B0201   \n",
       "cat3                                                   B02010900   \n",
       "contentid                                                2444381   \n",
       "contenttypeid                                                 80   \n",
       "createdtime                                       20161201153253   \n",
       "directions                                             Available   \n",
       "dongcode                                                      30   \n",
       "firstimage                                                   NaN   \n",
       "firstimage2                                                  NaN   \n",
       "homepage             http://cheonggye-stream.24guesthouse.co.kr/   \n",
       "mapx                                              126.9887145201   \n",
       "mapy                                               37.5670488146   \n",
       "masterid                                                 2398917   \n",
       "mlevel                                                         6   \n",
       "modifiedtime                                      20181229140714   \n",
       "overview       Situated in the middle of downtown Seoul, 24 G...   \n",
       "readcount                                                   1624   \n",
       "sigungucode                                                   24   \n",
       "tel                                                          NaN   \n",
       "telname                                                Kim Gi-su   \n",
       "title             24 Guesthouse Myeongdong City (24게스트하우스 명동시티점)   \n",
       "zipcode                                                    04542   \n",
       "\n",
       "                                                               3  \\\n",
       "addr1                   22 Apgujeong-ro 8-gil, Gangnam-gu, Seoul   \n",
       "addr2                                                        NaN   \n",
       "areacode                                                       1   \n",
       "cat1                                                         A04   \n",
       "cat2                                                       A0401   \n",
       "cat3                                                   A04010600   \n",
       "contentid                                                2009231   \n",
       "contenttypeid                                                 79   \n",
       "createdtime                                       20150610141921   \n",
       "directions     [Subway]<br>\\nSinsa Station (Seoul Subway Line...   \n",
       "dongcode                                                      25   \n",
       "firstimage     http://tong.visitkorea.or.kr/cms/resource/10/2...   \n",
       "firstimage2    http://tong.visitkorea.or.kr/cms/resource/10/2...   \n",
       "homepage       <a href=\"http://www.stylenanda.com/\" target=\"_...   \n",
       "mapx                                              127.0222127370   \n",
       "mapy                                               37.5222657301   \n",
       "masterid                                                 2009182   \n",
       "mlevel                                                       NaN   \n",
       "modifiedtime                                      20160504155545   \n",
       "overview       3CE opened its flagship store in March 2015 at...   \n",
       "readcount                                                  19726   \n",
       "sigungucode                                                    1   \n",
       "tel                                               +82-2-544-7724   \n",
       "telname                                                      NaN   \n",
       "title                                     3CE Cinema (스타일난다 시네마)   \n",
       "zipcode                                                    06028   \n",
       "\n",
       "                                                               4  \n",
       "addr1           13th floor, 57, Myeongdong 2-gil, Jung-gu, Seoul  \n",
       "addr2                                                        NaN  \n",
       "areacode                                                       1  \n",
       "cat1                                                         B02  \n",
       "cat2                                                       B0201  \n",
       "cat3                                                   B02010900  \n",
       "contentid                                                2542774  \n",
       "contenttypeid                                                 80  \n",
       "createdtime                                       20180412102855  \n",
       "directions                                             Available  \n",
       "dongcode                                                      66  \n",
       "firstimage                                                   NaN  \n",
       "firstimage2                                                  NaN  \n",
       "homepage       <br /><a href=\"http://www.57hostel.com\" target...  \n",
       "mapx                                              126.9833929541  \n",
       "mapy                                               37.5610049770  \n",
       "masterid                                                 2489973  \n",
       "mlevel                                                         6  \n",
       "modifiedtime                                      20190712112648  \n",
       "overview       \\n(Korea Quality Premier Class) The name ‘57 M...  \n",
       "readcount                                                    767  \n",
       "sigungucode                                                   24  \n",
       "tel                                             +82-10-3262-3503  \n",
       "telname                                           Ahn Sang-hyeon  \n",
       "title                             57 Myeongdong Hostel (57명동호스텔)  \n",
       "zipcode                                                    04536  "
      ]
     },
     "execution_count": 18,
     "metadata": {},
     "output_type": "execute_result"
    }
   ],
   "source": [
    "df.head().T"
   ]
  },
  {
   "cell_type": "code",
   "execution_count": 19,
   "metadata": {},
   "outputs": [],
   "source": [
    "content_types = {\n",
    "    82: \"음식(82)Dining\",\n",
    "    76: \"관광지(76)TouristAttractions\",\n",
    "    79: \"쇼핑(79)Shopping\",\n",
    "    78: \"문화시설(78)Cultural Facilities\",\n",
    "    80: \"숙박(80)Accommodation\",\n",
    "    85: \"축제/공연/행사(85)Festivals/Events/Performances\",\n",
    "    75: \"레포츠(75)Leisure/Sports\",\n",
    "    77: \"교통(77)Transportation\",    \n",
    "}\n"
   ]
  },
  {
   "cell_type": "code",
   "execution_count": 20,
   "metadata": {},
   "outputs": [],
   "source": [
    "# Histogram for readcount\n",
    "content_type_count = df.contenttypeid.value_counts()"
   ]
  },
  {
   "cell_type": "code",
   "execution_count": 21,
   "metadata": {},
   "outputs": [
    {
     "data": {
      "text/plain": [
       "82    263\n",
       "76    262\n",
       "79    215\n",
       "78    161\n",
       "80    156\n",
       "85     87\n",
       "75     26\n",
       "77     11\n",
       "Name: contenttypeid, dtype: int64"
      ]
     },
     "execution_count": 21,
     "metadata": {},
     "output_type": "execute_result"
    }
   ],
   "source": [
    "content_type_count"
   ]
  },
  {
   "cell_type": "code",
   "execution_count": 22,
   "metadata": {},
   "outputs": [
    {
     "name": "stdout",
     "output_type": "stream",
     "text": [
      "17℃ (17도씨)\n",
      "63 Buffet Pavilion (63뷔페 파빌리온)\n",
      "Aedogin (에도긴)\n",
      "Ali Baba (알리바바)\n",
      "Alla Prima (알라 프리마)\n",
      "Andong Guksi (안동국시)\n",
      "Aoi Tori (아오이토리)\n",
      "Areumdaun Cha Bangmulgwan (Beautiful Tea Museum) (아름다운차박물관)\n",
      "Arirang (아리랑)\n",
      "B-hind (비하인드)\n",
      "Baba India - Gangnam Branch (바바인디아 (강남역점))\n",
      "Badalbi (바달비)\n",
      "Baekje Samgyetang (백제삼계탕)\n",
      "Baengnyeon Samgyetang (백년토종삼계탕)\n",
      "Baengnyeonok (백년옥)\n",
      "Baerlin (베어린)\n",
      "Balwoo Gongyang (사찰음식 전문점 발우공양)\n",
      "Bistro74 (비스트로74)\n",
      "Bo Reum Soei (보름쇠)\n",
      "Bongpiyang (Bangi Branch) (봉피양 방이점)\n",
      "Bongraeheon (Mayfield Hotel) (봉래헌(메이필드호텔))\n",
      "Bua (부아)\n",
      "Buchon Yukhoe (부촌육회)\n",
      "Bugakjeong Isang Galbi (북악정-이상갈비)\n",
      "Bugeogukjip (북어국집)\n",
      "Bukmakgol (북막골)\n",
      "BuonaSera (보나세라)\n",
      "Busan Sikdang (부산식당)\n",
      "Busanbokjip (부산복집)\n",
      "Ca'del Lupo (까델루뽀)\n",
      "Cacao Boom (Itaewon Branch) (카카오봄(이태원점))\n",
      "Cacaodada (카카오 다다)\n",
      "Café De Paris (카페드파리)\n",
      "Café Moon (달 카페)\n",
      "Canadian Lobster (카나디안 랍스터)\n",
      "Châtaigne (샤떼뉴)\n",
      "Chakraa (Hannam Branch) (차크라(한남점))\n",
      "Chammanna (참만나)\n",
      "Chamsutgol (참숯골)\n",
      "Chanyangjip (찬양집)\n",
      "Cheongsu Hoetjip (Formerly Eushim) (청수횟집)\n",
      "Chikibaitu (Chickyx2) - Ewha Woman's Univ. Main Branch (치키바이투 (이대본점))\n",
      "Choedaegamne (최대감네)\n",
      "Choryuhyang (초유향)\n",
      "Chowoo Maeul (초우마을)\n",
      "Chuncheonjip Dakgalbi Makguksu (춘천집닭갈비막국수)\n",
      "Chungmuro Jjukkumi Bulgogi (충무로 쭈꾸미 불고기)\n",
      "Cine de Chef (씨네 드 쉐프)\n",
      "Copacabana Grill (코파카바나 그릴)\n",
      "Cornerstone at Park Hyatt Seoul (파크 하얏트 서울 코너스톤)\n",
      "Daejanggeum (대장금)\n",
      "Daemun (대문)\n",
      "Daemunjeom (대문점)\n",
      "Daesungjip (대성집)\n",
      "Dalgaebi (달개비)\n",
      "Danube (다뉴브)\n",
      "Darakjeong (다락정)\n",
      "Dawon (Traditional Tea Garden) (전통다원)\n",
      "Dduksim Hanu - Apgujeong Branch (뚝심한우 압구정점)\n",
      "Dduksim Hanu - Gwanghwamun Branch (뚝심한우 광화문점)\n",
      "Dining in Space (다이닝 인 스페이스)\n",
      "Dongbosung (동보성)\n",
      "Doore (두레)\n",
      "Dubai (두바이레스토랑)\n",
      "Dugahun (두가헌)\n",
      "Ellimseong (엘림성)\n",
      "Eun Ha Su (은하수)\n",
      "Everest (에베레스트)\n",
      "Fatum (파툼)\n",
      "Gaehwa (개화)\n",
      "Gaehwaok (개화옥)\n",
      "Gaeseong Mandu Koong (개성만두 궁)\n",
      "Gaetmaeul (갯마을)\n",
      "Gamiok Seolleongtang (ox bone soup) (감미옥설렁탕)\n",
      "Gangseo Myeonok (강서면옥)\n",
      "Gaon (가온)\n",
      "Gogung Tteurak (고궁뜨락)\n",
      "Golden Bull (골든불)\n",
      "Gomguksijib (곰국시집)\n",
      "Gomkuksizib (명동 곰국시집)\n",
      "Goobok Mandu (구복만두)\n",
      "Gotgan by Lee Jong Guk (곳간 by 이종국)\n",
      "Gourmet Home (고메홈)\n",
      "Great Shanghai (대상해)\n",
      "Green Chicken Doctor (그린치킨 닥터)\n",
      "Grill H (그릴에이치)\n",
      "Gungnara Naengmyeon Mukbap (궁나라냉면묵밥)\n",
      "Gwanghwamun Mijin (광화문 미진)\n",
      "Gwangyang Bulgogi (광양불고기)\n",
      "Gwangyang Bulgogi Bonga (광양불고기본가)\n",
      "Haeju Naengmyeon (해주냉면)\n",
      "Halmaejip (할매집)\n",
      "Hamgyeong-do Wangsundae (Korean stuffed sausage) (함경도 왕순대)\n",
      "Hamo (하모)\n",
      "HanCook (한쿡)\n",
      "Hangang Live Paradise (파라다이스)\n",
      "Hanwoori (한우리 (본점))\n",
      "Hanwoori Traditional Korean Restaurant (한우리한정식)\n",
      "Harimgak (하림각)\n",
      "Hemlagat (헴라갓)\n",
      "Hirameki (히라메키)\n",
      "Hwanghu Myeongga (황후 명가)\n",
      "Hwangsaengga Kalguksu (황생가칼국수)\n",
      "Hyanglim (향림)\n",
      "Hyoja Bakery (효자베이커리)\n",
      "Hyundai Kalguksu (현대칼국수)\n",
      "I Love Sindangdong Tteokbokki (아이러브 신당동 떡볶이 )\n",
      "I am A burger (Hongdae Branch) (아이엠어버거 (홍대점))\n",
      "Imun Seolnongtang (이문설농탕)\n",
      "Injeongwon - Gildong Main Branch (인정원-길동본점)\n",
      "Insa-dong Doodaemunjip (인사동 두대문집)\n",
      "Insadong Chatjip (tea house) (인사동찻집)\n",
      "Insadong Geujip (인사동그집)\n",
      "Italyjae (이태리재)\n",
      "Iutsachon Hanjeongsik (이웃사촌한정식)\n",
      "Jaha Sonmandu (자하손만두)\n",
      "Jeil Bean Restaurant (제일콩집)\n",
      "Jeonju Hoegwan (전주회관)\n",
      "Jeonju Jungang Hoegwan - Myeongdong Branch (main store) (전주중앙회관(명동본점))\n",
      "Jihwaja (지화자)\n",
      "Jin Jin (진진)\n",
      "Jingogae (진고개)\n",
      "Jinju Hall (진주회관)\n",
      "Jinokhwa Halmae Wonjo Dakhanmari (Jin Ok-hwa Original Chicken Restaurant) (진옥화할매원조닭한마리)\n",
      "Jinsang - Cheongdam Branch (진상(청담점))\n",
      "Jirisan Restaurant (지리산)\n",
      "Jongjeom Tteokbokki (종점 떡볶이)\n",
      "Jungin Myeonok (정인면옥)\n",
      "Jungsik (정식당)\n",
      "Kangkangsullai - Sillimbondong Branch (강강술래-신림점)\n",
      "Kervan Restaurant (케르반 레스토랑)\n",
      "Keungiwajip (큰기와집)\n",
      "Kim Gwangbun's Pulhyanggi Sonkalguksu (김광분의 풀향기손칼국수)\n",
      "Kojima (코지마)\n",
      "Korea Samgyetang (고려삼계탕)\n",
      "Kwonsooksoo (권숙수)\n",
      "L’amitié (라미띠에)\n",
      "La Cucina (라 쿠치나)\n",
      "La Yeon (라연)\n",
      "Libuk Sonmandu (리북손만두)\n",
      "Limbyungjoo Sandong Kalguksu (임병주 산동 칼국수)\n",
      "Little & Much (리틀앤머치)\n",
      "Luden Loquen SPACE (Cafe LN) (카페LN)\n",
      "Luii (루이)\n",
      "Mabongnim Tteokbokki (마복림떡볶이)\n",
      "Mandujip (만두집)\n",
      "Maple Tree House - Itaewon Branch (단풍나무집 - 이태원점)\n",
      "Masan Place (마산집)\n",
      "Masichaina (맛이차이나)\n",
      "Migami (미가미)\n",
      "Mingles (밍글스)\n",
      "Mobssie (몹시)\n",
      "Mokcheon Jip (Encore Kalguksu) (목천집 (앵콜칼국수))\n",
      "Momoyama (모모야마)\n",
      "Mother's Office (마더스 오피스)\n",
      "Mr.Kebab (미스터케밥)\n",
      "Mum Aroy (뭄알로이)\n",
      "Mungyeong Jip (문경집 (문경산골메밀묵))\n",
      "Myeongdong Kyoja (명동교자)\n",
      "Myongwolgwan (Sheraton Grande Walkerhill) (워커힐호텔 명월관)\n",
      "Nak Won - Mayfield Hotel (낙원 (메이필드호텔))\n",
      "Nammun Tobang (남문토방)\n",
      "Naneungi (나능이)\n",
      "Niwa (니와)\n",
      "Nobizib (너비집)\n",
      "Nodokilcheo (노독일처)\n",
      "Nunnamujip (눈나무집)\n",
      "Nuri (누리)\n",
      "Nwijo (뉘조)\n",
      "Odarizip (오다리집)\n",
      "Ogane Jokbal (오가네족발)\n",
      "Ogeunnae Dakgalbi (오근내닭갈비)\n",
      "Oh Tongyoung (오통영)\n",
      "Oksang Dalbit (옥상달빛)\n",
      "Once In A Blue Moon (원스인어블루문)\n",
      "Oola Restaurant (울라 레스토랑)\n",
      "Osegyehyang (오세계향)\n",
      "POOM SEOUL (품 서울)\n",
      "Palais de Gaumont (팔레드고몽)\n",
      "Palpal Minmul Jangeo (팔팔민물장어)\n",
      "Passion 5 (패션5)\n",
      "Peninsula (페닌슐라)\n",
      "Persian Palace (페르시안궁전)\n",
      "Petra Palace (페트라 펠리스)\n",
      "Philkyungjae (필경재)\n",
      "Pho'na Thai (포나타이)\n",
      "Pierre Gagnaire à Seoul (피에르 가니에르)\n",
      "Pildong Myeonok (필동면옥)\n",
      "Piyangkong Halmani (피양콩 할마니)\n",
      "Plant (플랜트)\n",
      "Primo Bacio - Hongdae Branch (프리모 바치오바치-홍대점)\n",
      "Pro Soy Crab (프로간장게장)\n",
      "Pyeongando Jokbal (평안도족발집)\n",
      "Ristorante EO (리스토란테 에오)\n",
      "SALAM (쌀람)\n",
      "Sajo Tuna (사조참치)\n",
      "Samcheongdong Sujebi (삼청동수제비)\n",
      "Samcheonggak (Korean restaurant) (삼청각 (한식당))\n",
      "Samcheonggak (Lounge Dawon) (삼청각(라운지 다원))\n",
      "Samho Bokjip (삼호복집)\n",
      "Samjeon Hoejeon Chobap (삼전회전초밥)\n",
      "Samjung (삼정)\n",
      "Samkim (삼김)\n",
      "Samonim Dongaseu (사모님 돈가스)\n",
      "Samseong Bbalgan Yangnyeom Sutbulgui (삼성 빨간양념 숯불구이)\n",
      "Sanchon (산촌)\n",
      "Sarangchae (사랑채)\n",
      "Seocho Sariwon (서초사리원)\n",
      "Seokparang (석파랑)\n",
      "Seongbukdong Dwaejigalbijip (Grilled Spareribs Restaurant) (성북동 돼지갈비집)\n",
      "Seoureseo Duljjaero Jalhaneunjip (The Second Best in Seoul) (서울서둘째로잘하는집)\n",
      "Shanti (1st branch) (산띠(1호점))\n",
      "Shim’s Tapas (심스타파스)\n",
      "Smokey Saloon – Itaewon Branch (main branch) (스모키 살룬-본점)\n",
      "Sobok (소복)\n",
      "Soigné (스와니예)\n",
      "Sona (소나)\n",
      "Songwon (송원)\n",
      "Songwon Bokjib (송원복집)\n",
      "Subaru (스바루)\n",
      "Sunnyne Pet Café (써니네 애견카페)\n",
      "Sura Hanu (수라한우)\n",
      "Sushi Kaisin (스시 카이신(鮨海信))\n",
      "Sushigen (스시겐)\n",
      "Sushiko (스시꼬)\n",
      "Suyeonsanbang (수연산방)\n",
      "Table 34 (테이블34)\n",
      "Taco Chilichili (타코칠리칠리)\n",
      "Taerim Sanchaejeongsik (태림 산채정식)\n",
      "Tailor Coffee (테일러커피)\n",
      "Taj Palace (타지펠리스)\n",
      "Tea Therapy (티 테라피)\n",
      "The Hanok Smith Likes (스미스가 좋아하는 한옥)\n",
      "The King's (더 킹스)\n",
      "The Korea House (한국의집)\n",
      "The Place Dining (더플레이스 다이닝)\n",
      "Tombola (톰볼라)\n",
      "Tosokchon Samgyetang (토속촌 삼계탕)\n",
      "Tteul Gwa Dawon (뜰과다원)\n",
      "Ttobogetji Tteokbokki (또보겠지 떡볶이)\n",
      "Ttosuni Sundae (또순이원조순대)\n",
      "Tuk Tuk Noodle Thai (툭툭누들타이)\n",
      "Twenty Four Seasons (이십사절기)\n",
      "Urijip Tteokbokki (우리집떡볶이 )\n",
      "Usmania (우스마니아)\n",
      "Votre Maison (보트르 메종)\n",
      "Walking On The Cloud (워킹온더클라우드)\n",
      "Wan Chai (완차이)\n",
      "Wang Thai (왕타이)\n",
      "Wangbijib (왕비집)\n",
      "Yangbandaek (양반댁)\n",
      "Yangmiok - Euljiro Branch (main store) (양미옥-을지로본점)\n",
      "Yeongyang Center - Main Branch (영양센터본점)\n",
      "Yetchatjip (old teahouse) (옛찻집)\n",
      "Yonggeumok (용금옥)\n",
      "Yonggeumok (용금옥)\n",
      "Yoonssi Milbang (윤씨밀방)\n",
      "Yu Yuan (유 유안)\n",
      "Yukjeon Hoekwan (역전회관)\n",
      "Yuu (유우)\n",
      "Zelen (젤렌)\n",
      "Zero Complex (제로 컴플렉스)\n",
      "n·GRILL (엔그릴)\n"
     ]
    }
   ],
   "source": [
    "# 음식 카테고리만 출력\n",
    "for _, row in df.iterrows():\n",
    "    if row['contenttypeid'] == '82':\n",
    "        print(row['title'])"
   ]
  },
  {
   "cell_type": "markdown",
   "metadata": {},
   "source": [
    "### Visualization with folium"
   ]
  },
  {
   "cell_type": "code",
   "execution_count": 23,
   "metadata": {},
   "outputs": [],
   "source": [
    "import folium"
   ]
  },
  {
   "cell_type": "code",
   "execution_count": 24,
   "metadata": {},
   "outputs": [],
   "source": [
    "df.mapx = pd.to_numeric(df.mapx)"
   ]
  },
  {
   "cell_type": "code",
   "execution_count": 25,
   "metadata": {},
   "outputs": [],
   "source": [
    "df.mapy = pd.to_numeric(df.mapy)"
   ]
  },
  {
   "cell_type": "code",
   "execution_count": 26,
   "metadata": {},
   "outputs": [],
   "source": [
    "center_coord = (df.mapy.mean(), df.mapx.mean())"
   ]
  },
  {
   "cell_type": "code",
   "execution_count": 27,
   "metadata": {},
   "outputs": [
    {
     "data": {
      "text/plain": [
       "(37.51909343531988, 126.88651275411688)"
      ]
     },
     "execution_count": 27,
     "metadata": {},
     "output_type": "execute_result"
    }
   ],
   "source": [
    "center_coord"
   ]
  },
  {
   "cell_type": "code",
   "execution_count": 28,
   "metadata": {},
   "outputs": [],
   "source": [
    "f_map = folium.Map(location=center_coord, zoom_start=12)"
   ]
  },
  {
   "cell_type": "code",
   "execution_count": 29,
   "metadata": {},
   "outputs": [
    {
     "name": "stdout",
     "output_type": "stream",
     "text": [
      "Art Korea Inc.(아트코리아)\n",
      "Hapjeong-dong Café Street (합정동 카페거리)\n",
      "International Seon Center (국제선센터)\n",
      "Inwoo House (인우하우스)\n"
     ]
    }
   ],
   "source": [
    "for _, row in df.iterrows():\n",
    "    \n",
    "    icon = folium.Icon(color='blue')\n",
    "    if row['contenttypeid'] == '82':\n",
    "        # Food\n",
    "        icon.color = 'red'\n",
    "    elif row['contenttypeid'] == '76':\n",
    "        # 관광지\n",
    "        icon.color = 'green'\n",
    "    elif row['contenttypeid'] == '79':\n",
    "        # 쇼핑\n",
    "        icon.color = 'orange'\n",
    "    elif row['contenttypeid'] == '80':\n",
    "        # 숙박\n",
    "        icon.color = 'purple' \n",
    "    \n",
    "    if not (np.isnan(row['mapy']) or np.isnan(row['mapx'])):\n",
    "        folium.Marker(location=[row['mapy'], row['mapx']], \n",
    "                      popup=row['title'], \n",
    "                      icon=icon).add_to(f_map)\n",
    "    else:\n",
    "        print(row['title'])\n"
   ]
  },
  {
   "cell_type": "code",
   "execution_count": 30,
   "metadata": {
    "scrolled": true
   },
   "outputs": [
    {
     "data": {
      "text/plain": [
       "map"
      ]
     },
     "metadata": {},
     "output_type": "display_data"
    }
   ],
   "source": [
    "display(map)"
   ]
  },
  {
   "cell_type": "markdown",
   "metadata": {},
   "source": [
    "### Vectorizing by TD-IDF values with overview"
   ]
  },
  {
   "cell_type": "code",
   "execution_count": 31,
   "metadata": {},
   "outputs": [],
   "source": [
    "from sklearn.feature_extraction.text import TfidfVectorizer\n",
    "from sklearn.feature_extraction import stop_words\n",
    "from sklearn.decomposition import TruncatedSVD\n",
    "\n",
    "from nltk.tokenize import word_tokenize\n",
    "\n",
    "from mpl_toolkits.mplot3d import Axes3D\n",
    "%matplotlib inline"
   ]
  },
  {
   "cell_type": "code",
   "execution_count": 32,
   "metadata": {},
   "outputs": [],
   "source": [
    "ngrams_1 = {\n",
    "    'ngram_range': (1, 1),\n",
    "    'stop_words': 'english',\n",
    "    'dtype': 'int32',\n",
    "    'strip_accents': 'unicode',\n",
    "    'decode_error': 'replace',\n",
    "    'analyzer': 'word',\n",
    "    'min_df': 2\n",
    "}"
   ]
  },
  {
   "cell_type": "code",
   "execution_count": 33,
   "metadata": {},
   "outputs": [],
   "source": [
    "tfidf = TfidfVectorizer(ngrams_1)"
   ]
  },
  {
   "cell_type": "code",
   "execution_count": 34,
   "metadata": {},
   "outputs": [],
   "source": [
    "# cleaning text\n",
    "from functions import remove_html, remove_newline"
   ]
  },
  {
   "cell_type": "code",
   "execution_count": 35,
   "metadata": {},
   "outputs": [],
   "source": [
    "# Replace NA with ''\n",
    "df.overview = df.overview.fillna('')"
   ]
  },
  {
   "cell_type": "code",
   "execution_count": 36,
   "metadata": {},
   "outputs": [],
   "source": [
    "overviews = list(df['overview'])"
   ]
  },
  {
   "cell_type": "code",
   "execution_count": 37,
   "metadata": {},
   "outputs": [
    {
     "data": {
      "text/plain": [
       "['17℃ stands for the optimum temperature to preserve chocolates at its best quality. Presenting a wide variety of hand-made chocolates, purchasable items include chocolate bars and café menus like chocolate cakes and chocolate beverages. In particular, you can control the amount of cacao in your chocolate drink ranging from 40%~80% according to your preference.',\n",
       " '1m Classic Art Hall, located in Daehang-ro is a classic art experience center exclusively for children. The center provides children with the opportunity to enjoy classical music in a fun and interesting way. In the ‘1m Experience Classic’ program (the oldest children’s classical program in the nation), teachers not only provide interesting mini-music learns, but also assist children in trying out a variety of instruments.<br><br>\\n\\nAt the performance halls at the 1m Classic Art Hall, the stage is just 1m away from the surrounding seats, giving young audience members a more intimate musical experience.',\n",
       " \"Situated in the middle of downtown Seoul, 24 Guesthouse Myeongdong City has clean and affordable rooms and full-time staff who can serve as tour guide. The building has an elevator, and each room comes with a bathroom. Free breakfast is served to all the guests regardless of the type of room they're staying in. The guesthouse is located right next to Cheonggyecheon Stream, which leads to numerous historical sites and popular tourist destinations including Deoksugung Palace, Gwanghwamun Gate, Gyeongbokgung Palace, Insa-dong, Gwangjang Market, and Dongdaemun Fashion District. All in all, it's very conveniently located for those wishing to experience both the tradition and modern lifestyle of Korea. The Myeongdong Shopping Streets are also within 3 minutes away on foot as well. Despite its location, the guesthouse is very quiet. The guesthouse is within 3 minutes away from Euljiro 3-ga Station on Subway Lines 2 and 3, which passes through Dong Seoul Bus Terminal (Line 2) and Seoul Express Bus Terminal and Seoul Nambu Terminal (Line 3), and only 2 minutes away from an Airport Limousine Bus Stop, both on foot.\",\n",
       " \"3CE opened its flagship store in March 2015 at Lotte Department Store Bundang Branch. The first exclusive shop also opened later at Sinsa-dong Garosu-gil Road. 3CE Cinema is a movie-themed cosmetics store. Make-up booths with colorful lighting and props in cute baby pink colors will make the visitors feel as if they've become actresses.\\n<br>\",\n",
       " '\\n(Korea Quality Premier Class) The name ‘57 Myeongdong Hostel’ comes from its location ‘13F, Taepyeongyang Building, 57, Myeongdong 2-gil, Jung-gu, Seoul’. The hotel, which is 5 minute-walk from the airport limousine stop, and 3 minute-walk from Myeongdong Station, offers easy access to adjacent tourist destinations including the famous shopping neighborhood of Myeong-dong. The three-story hostel (from 11F to 13F) is composed of 42 guestrooms with 9 types - Single, Twin (Standard, Deluxe, and Economy), Double (Standard, Deluxe, and Economy), Triple, and Family. In particular, Single rooms (equipped with a bathroom) are popular among single travelers and businessmen. It also serves breakfast with diverse types of dishes free of charge, as well as coffee and tea in the communal rest space. Guests can also use the computer and printer in the business center. In addition, a mini washing machine is installed next to the walls, which can be used free of charge. The reception desk provides various information and reservation services for tourist attractions and cultural events. 57 Myeongdong Hostel charms a variety of guests from not only Asian countries but also European countries, the United States, and more.\\n<br>']"
      ]
     },
     "execution_count": 37,
     "metadata": {},
     "output_type": "execute_result"
    }
   ],
   "source": [
    "overviews[:5]"
   ]
  },
  {
   "cell_type": "code",
   "execution_count": 38,
   "metadata": {},
   "outputs": [],
   "source": [
    "# need to clean the markup characters (<Br>, \\n, ...)\n",
    "overviews = list(map(remove_html, overviews))\n",
    "overviews = list(map(remove_newline, overviews))"
   ]
  },
  {
   "cell_type": "code",
   "execution_count": 39,
   "metadata": {},
   "outputs": [],
   "source": [
    "# get TF-IDF values\n",
    "tfidf_values = tfidf.fit_transform(df['overview'])"
   ]
  },
  {
   "cell_type": "code",
   "execution_count": 40,
   "metadata": {},
   "outputs": [
    {
     "data": {
      "text/plain": [
       "(1181, 9988)"
      ]
     },
     "execution_count": 40,
     "metadata": {},
     "output_type": "execute_result"
    }
   ],
   "source": [
    "tfidf_values.shape"
   ]
  },
  {
   "cell_type": "code",
   "execution_count": 41,
   "metadata": {},
   "outputs": [],
   "source": [
    "# Reduce dimensions for Chart\n",
    "svd = TruncatedSVD(n_components=3)\n",
    "svd_values = svd.fit_transform(tfidf_values)"
   ]
  },
  {
   "cell_type": "code",
   "execution_count": 42,
   "metadata": {},
   "outputs": [
    {
     "data": {
      "text/plain": [
       "array([[ 0.14462705, -0.00654833,  0.07341869],\n",
       "       [ 0.24511806, -0.06110078, -0.04431175],\n",
       "       [ 0.41434116,  0.16222161, -0.00914345],\n",
       "       ...,\n",
       "       [ 0.        , -0.        ,  0.        ],\n",
       "       [ 0.        , -0.        ,  0.        ],\n",
       "       [ 0.        , -0.        ,  0.        ]])"
      ]
     },
     "execution_count": 42,
     "metadata": {},
     "output_type": "execute_result"
    }
   ],
   "source": [
    "svd_values"
   ]
  },
  {
   "cell_type": "code",
   "execution_count": 43,
   "metadata": {},
   "outputs": [],
   "source": [
    "# Coloring by category: Food : Red, Sightseeing : Green, Shopping : Blue, Lodging : Purple\n",
    "C = []\n",
    "for idx, row in df.iterrows():    \n",
    "    if row['contenttypeid'] == '82':\n",
    "        # Food\n",
    "        C.append('r')\n",
    "    elif row['contenttypeid'] == '76':\n",
    "        C.append('g')\n",
    "    elif row['contenttypeid'] == '79':\n",
    "        # 쇼핑\n",
    "        C.append('b')\n",
    "    elif row['contenttypeid'] == '80':\n",
    "        # 숙박\n",
    "        C.append('purple')\n",
    "    else:\n",
    "        C.append('gray')\n",
    "        "
   ]
  },
  {
   "cell_type": "code",
   "execution_count": 44,
   "metadata": {},
   "outputs": [],
   "source": [
    "# Set list for chart (X, Y, Z and Colors)\n",
    "X = []\n",
    "Y = []\n",
    "Z = []\n",
    "CC = []\n",
    "\n",
    "for idx, c in enumerate(['r', 'g', 'b', 'purple', 'gray']):\n",
    "    x = []\n",
    "    y = []\n",
    "    z = []\n",
    "    cc = []\n",
    "    for id, i in enumerate(svd_values):\n",
    "        if C[id] == c:\n",
    "            x.append(i[0])\n",
    "            y.append(i[1])            \n",
    "            z.append(i[2])\n",
    "            cc.append(C[idx])\n",
    "    X.append(x)\n",
    "    Y.append(y)\n",
    "    Z.append(z)\n",
    "    CC.append(cc)"
   ]
  },
  {
   "cell_type": "code",
   "execution_count": 45,
   "metadata": {},
   "outputs": [
    {
     "data": {
      "image/png": "[encoded data removed]",
      "text/plain": [
       "<Figure size 1440x720 with 1 Axes>"
      ]
     },
     "metadata": {
      "needs_background": "light"
     },
     "output_type": "display_data"
    }
   ],
   "source": [
    "fig = plt.figure(figsize=(20,10))\n",
    "labels = ['Food', 'Attraction', 'Shopping', 'Accomodation', 'etc']\n",
    "ax = fig.add_subplot(111, projection='3d')\n",
    "for idx, c in enumerate(['r', 'g', 'b', 'purple', 'gray']):\n",
    "    ax.scatter(X[idx], Y[idx], Z[idx], color=c, s=60, label=labels[idx])\n",
    "\n",
    "ax.legend()\n",
    "ax.set_title('POI Vectorized Graph', fontdict={'fontsize': 18}, loc='left')\n",
    "plt.show()\n"
   ]
  },
  {
   "cell_type": "markdown",
   "metadata": {},
   "source": [
    "#### Compare vectors"
   ]
  },
  {
   "cell_type": "code",
   "execution_count": 46,
   "metadata": {},
   "outputs": [
    {
     "data": {
      "text/html": [
       "<div>\n",
       "<style scoped>\n",
       "    .dataframe tbody tr th:only-of-type {\n",
       "        vertical-align: middle;\n",
       "    }\n",
       "\n",
       "    .dataframe tbody tr th {\n",
       "        vertical-align: top;\n",
       "    }\n",
       "\n",
       "    .dataframe thead th {\n",
       "        text-align: right;\n",
       "    }\n",
       "</style>\n",
       "<table border=\"1\" class=\"dataframe\">\n",
       "  <thead>\n",
       "    <tr style=\"text-align: right;\">\n",
       "      <th></th>\n",
       "      <th>title</th>\n",
       "      <th>contentid</th>\n",
       "      <th>overview</th>\n",
       "    </tr>\n",
       "  </thead>\n",
       "  <tbody>\n",
       "    <tr>\n",
       "      <th>51</th>\n",
       "      <td>Baba India - Gangnam Branch (바바인디아 (강남역점))</td>\n",
       "      <td>556174</td>\n",
       "      <td>Baba India is a traditional Indian cuisine res...</td>\n",
       "    </tr>\n",
       "    <tr>\n",
       "      <th>72</th>\n",
       "      <td>Best Western Premier Gangnam Hotel (베스트웨스턴 프리미...</td>\n",
       "      <td>782947</td>\n",
       "      <td>Best Western International is a worldwide chai...</td>\n",
       "    </tr>\n",
       "    <tr>\n",
       "      <th>293</th>\n",
       "      <td>Gangnam (강남)</td>\n",
       "      <td>264571</td>\n",
       "      <td>Gangnam Subway Station area is the prime distr...</td>\n",
       "    </tr>\n",
       "    <tr>\n",
       "      <th>294</th>\n",
       "      <td>Gangnam Station Underground Shopping Center (강...</td>\n",
       "      <td>2021659</td>\n",
       "      <td>Consumers in their 20s to 30s are frequent vis...</td>\n",
       "    </tr>\n",
       "    <tr>\n",
       "      <th>320</th>\n",
       "      <td>Goto Mall (Gangnam Terminal Underground Shoppi...</td>\n",
       "      <td>1356028</td>\n",
       "      <td>Gangnam Terminal Underground Shopping Center i...</td>\n",
       "    </tr>\n",
       "    <tr>\n",
       "      <th>562</th>\n",
       "      <td>Kakao Friends Gangnam Flagship Store (카카오프렌즈 강...</td>\n",
       "      <td>2579444</td>\n",
       "      <td>Kakao Friends Gangnam Flagship Store features ...</td>\n",
       "    </tr>\n",
       "    <tr>\n",
       "      <th>606</th>\n",
       "      <td>Kumkang - Gangnam Branch (Main store) (금강제화 (강...</td>\n",
       "      <td>1326661</td>\n",
       "      <td>Kumkang Shoes is Korea's leading fashion retai...</td>\n",
       "    </tr>\n",
       "    <tr>\n",
       "      <th>784</th>\n",
       "      <td>Novotel Ambassador Gangnam, Seoul (노보텔 앰배서더 강남)</td>\n",
       "      <td>349257</td>\n",
       "      <td>The Novotel Ambassador Gangnam, Seoul is one o...</td>\n",
       "    </tr>\n",
       "    <tr>\n",
       "      <th>995</th>\n",
       "      <td>Seven Luck Casino - Gangnam COEX (세븐럭카지노(강남코엑스점))</td>\n",
       "      <td>495641</td>\n",
       "      <td>Everyone’s favorite, Korean Las Vegas – Seven ...</td>\n",
       "    </tr>\n",
       "    <tr>\n",
       "      <th>999</th>\n",
       "      <td>Sheraton Seoul Palace Gangnam Hotel (쉐라톤 서울 팔래...</td>\n",
       "      <td>349263</td>\n",
       "      <td></td>\n",
       "    </tr>\n",
       "    <tr>\n",
       "      <th>1114</th>\n",
       "      <td>Urban Place Gangnam (어반플레이스 강남)</td>\n",
       "      <td>2546389</td>\n",
       "      <td></td>\n",
       "    </tr>\n",
       "  </tbody>\n",
       "</table>\n",
       "</div>"
      ],
      "text/plain": [
       "                                                  title contentid  \\\n",
       "51           Baba India - Gangnam Branch (바바인디아 (강남역점))    556174   \n",
       "72    Best Western Premier Gangnam Hotel (베스트웨스턴 프리미...    782947   \n",
       "293                                        Gangnam (강남)    264571   \n",
       "294   Gangnam Station Underground Shopping Center (강...   2021659   \n",
       "320   Goto Mall (Gangnam Terminal Underground Shoppi...   1356028   \n",
       "562   Kakao Friends Gangnam Flagship Store (카카오프렌즈 강...   2579444   \n",
       "606   Kumkang - Gangnam Branch (Main store) (금강제화 (강...   1326661   \n",
       "784     Novotel Ambassador Gangnam, Seoul (노보텔 앰배서더 강남)    349257   \n",
       "995   Seven Luck Casino - Gangnam COEX (세븐럭카지노(강남코엑스점))    495641   \n",
       "999   Sheraton Seoul Palace Gangnam Hotel (쉐라톤 서울 팔래...    349263   \n",
       "1114                    Urban Place Gangnam (어반플레이스 강남)   2546389   \n",
       "\n",
       "                                               overview  \n",
       "51    Baba India is a traditional Indian cuisine res...  \n",
       "72    Best Western International is a worldwide chai...  \n",
       "293   Gangnam Subway Station area is the prime distr...  \n",
       "294   Consumers in their 20s to 30s are frequent vis...  \n",
       "320   Gangnam Terminal Underground Shopping Center i...  \n",
       "562   Kakao Friends Gangnam Flagship Store features ...  \n",
       "606   Kumkang Shoes is Korea's leading fashion retai...  \n",
       "784   The Novotel Ambassador Gangnam, Seoul is one o...  \n",
       "995   Everyone’s favorite, Korean Las Vegas – Seven ...  \n",
       "999                                                      \n",
       "1114                                                     "
      ]
     },
     "execution_count": 46,
     "metadata": {},
     "output_type": "execute_result"
    }
   ],
   "source": [
    "# Find index value for POI\n",
    "df[df['title'].str.contains('강남')][['title', 'contentid', 'overview']]"
   ]
  },
  {
   "cell_type": "code",
   "execution_count": 47,
   "metadata": {},
   "outputs": [],
   "source": [
    "X = [i[0] for i in svd_values]\n",
    "Y = [i[1] for i in svd_values]\n",
    "Z = [i[2] for i in svd_values]\n",
    "\n",
    "def compare_vectors(idx_1, idx_2):\n",
    "    value_a = (X[idx_1], Y[idx_1], Z[idx_1])\n",
    "    value_b = (X[idx_2], Y[idx_2], Z[idx_2])\n",
    "    \n",
    "    # !!!!check how to get_distance between 3d vectors\n",
    "    diff = abs(X[idx_1] - X[idx_2]) + abs(Y[idx_1] - Y[idx_2]) + abs(Z[idx_1] - Z[idx_2])\n",
    "    \n",
    "    return diff, value_a, value_b"
   ]
  },
  {
   "cell_type": "code",
   "execution_count": 48,
   "metadata": {},
   "outputs": [
    {
     "data": {
      "text/plain": [
       "(0.3199535864090199,\n",
       " (0.3834976649458588, -0.18753100574093304, -0.13461760661169705),\n",
       " (0.2859587857385381, -0.023065357085753087, -0.07666854806517777))"
      ]
     },
     "execution_count": 48,
     "metadata": {},
     "output_type": "execute_result"
    }
   ],
   "source": [
    "# 경복궁 vs 남산타워\n",
    "compare_vectors(359, 748)"
   ]
  },
  {
   "cell_type": "code",
   "execution_count": 49,
   "metadata": {},
   "outputs": [
    {
     "data": {
      "text/plain": [
       "(0.1267153578243151,\n",
       " (0.3834976649458588, -0.18753100574093304, -0.13461760661169705),\n",
       " (0.4991593852703721, -0.19039053812022547, -0.12642350149118772))"
      ]
     },
     "execution_count": 49,
     "metadata": {},
     "output_type": "execute_result"
    }
   ],
   "source": [
    "# 경복궁 vs 창경궁\n",
    "compare_vectors(359, 133)"
   ]
  },
  {
   "cell_type": "code",
   "execution_count": 50,
   "metadata": {},
   "outputs": [
    {
     "data": {
      "text/plain": [
       "(0.20526823662174865,\n",
       " (0.2859587857385381, -0.023065357085753087, -0.07666854806517777),\n",
       " (0.4288209362652045, -0.06996039822136424, -0.06115750310570667))"
      ]
     },
     "execution_count": 50,
     "metadata": {},
     "output_type": "execute_result"
    }
   ],
   "source": [
    "# 남산타워 vs 롯데월드타워\n",
    "compare_vectors(748, 653)"
   ]
  },
  {
   "cell_type": "code",
   "execution_count": 51,
   "metadata": {},
   "outputs": [
    {
     "data": {
      "text/plain": [
       "(0.343568595726038,\n",
       " (0.28122535377228836, -0.07023761998432801, 0.05055228307062031),\n",
       " (0.3696432995714459, 0.06758414262012877, -0.06677660425180332))"
      ]
     },
     "execution_count": 51,
     "metadata": {},
     "output_type": "execute_result"
    }
   ],
   "source": [
    "# 북촌한옥마을 vs 강남\n",
    "compare_vectors(98, 293)"
   ]
  },
  {
   "cell_type": "markdown",
   "metadata": {},
   "source": [
    "#### Make function for get similar places"
   ]
  },
  {
   "cell_type": "code",
   "execution_count": 52,
   "metadata": {},
   "outputs": [],
   "source": [
    "# extract vectors to tuple array\n",
    "vectors = [(i[0], i[1], i[2]) for i in svd_values]"
   ]
  },
  {
   "cell_type": "code",
   "execution_count": 53,
   "metadata": {},
   "outputs": [],
   "source": [
    "# get similar places function\n",
    "def get_similar(index):\n",
    "    \"\"\"Returns similar places of indiced place\"\"\"\n",
    "    X = vectors[index][0]\n",
    "    Y = vectors[index][1]\n",
    "    Z = vectors[index][2]\n",
    " \n",
    "    distances = []\n",
    "    for i, value in enumerate(vectors):\n",
    "        distance = (abs(X - value[0]) + abs(Y - value[1]) + abs(Z - value[2]), i)\n",
    "        distances.append(distance)\n",
    "\n",
    "    top5_similars = [i[1] for i in sorted(distances)[0:6]]\n",
    "    \n",
    "    distance_df = pd.DataFrame(distances)\n",
    "    \n",
    "    result = pd.DataFrame(df.loc[top5_similars][['title', 'contentid', 'overview']])\n",
    "    result = pd.merge(result, distance_df.loc[top5_similars], left_index=True, right_index=True)\n",
    "    \n",
    "    result = result.rename({0:'distance'}, axis='columns')\n",
    "\n",
    "    return result\n"
   ]
  },
  {
   "cell_type": "markdown",
   "metadata": {},
   "source": [
    "#### Get similar places"
   ]
  },
  {
   "cell_type": "code",
   "execution_count": 54,
   "metadata": {},
   "outputs": [
    {
     "data": {
      "text/html": [
       "<div>\n",
       "<style scoped>\n",
       "    .dataframe tbody tr th:only-of-type {\n",
       "        vertical-align: middle;\n",
       "    }\n",
       "\n",
       "    .dataframe tbody tr th {\n",
       "        vertical-align: top;\n",
       "    }\n",
       "\n",
       "    .dataframe thead th {\n",
       "        text-align: right;\n",
       "    }\n",
       "</style>\n",
       "<table border=\"1\" class=\"dataframe\">\n",
       "  <thead>\n",
       "    <tr style=\"text-align: right;\">\n",
       "      <th></th>\n",
       "      <th>title</th>\n",
       "      <th>contentid</th>\n",
       "      <th>overview</th>\n",
       "      <th>distance</th>\n",
       "      <th>1</th>\n",
       "    </tr>\n",
       "  </thead>\n",
       "  <tbody>\n",
       "    <tr>\n",
       "      <th>98</th>\n",
       "      <td>Bukchon Hanok Village (북촌한옥마을)</td>\n",
       "      <td>561382</td>\n",
       "      <td>Surrounded by Gyeongbokgung Palace, Changdeokg...</td>\n",
       "      <td>0.000000</td>\n",
       "      <td>98</td>\n",
       "    </tr>\n",
       "    <tr>\n",
       "      <th>71</th>\n",
       "      <td>Beautiful Tea Museum (아름다운 차박물관)</td>\n",
       "      <td>268218</td>\n",
       "      <td>Located in Insa-dong, The Beautiful Tea Museum...</td>\n",
       "      <td>0.019191</td>\n",
       "      <td>71</td>\n",
       "    </tr>\n",
       "    <tr>\n",
       "      <th>936</th>\n",
       "      <td>Seoul Folk Flea Market  - Traditional Arts &amp; C...</td>\n",
       "      <td>1371199</td>\n",
       "      <td>The Traditional Arts &amp; Crafts Studio at Seoul ...</td>\n",
       "      <td>0.037291</td>\n",
       "      <td>936</td>\n",
       "    </tr>\n",
       "    <tr>\n",
       "      <th>480</th>\n",
       "      <td>Injeongwon - Gildong Main Branch (인정원-길동본점)</td>\n",
       "      <td>554553</td>\n",
       "      <td>'Vietnamssam Injeongwon,' keeping the new tren...</td>\n",
       "      <td>0.047929</td>\n",
       "      <td>480</td>\n",
       "    </tr>\n",
       "    <tr>\n",
       "      <th>600</th>\n",
       "      <td>Korean Museum of Straw and Life (짚풀생활사박물관)</td>\n",
       "      <td>2603951</td>\n",
       "      <td>Korean Museum of Straw and Life is a private m...</td>\n",
       "      <td>0.051801</td>\n",
       "      <td>600</td>\n",
       "    </tr>\n",
       "    <tr>\n",
       "      <th>790</th>\n",
       "      <td>OME Cooking Lab (오미요리연구소)</td>\n",
       "      <td>2030936</td>\n",
       "      <td>The ingredients used for cooking of the home m...</td>\n",
       "      <td>0.054167</td>\n",
       "      <td>790</td>\n",
       "    </tr>\n",
       "  </tbody>\n",
       "</table>\n",
       "</div>"
      ],
      "text/plain": [
       "                                                 title contentid  \\\n",
       "98                      Bukchon Hanok Village (북촌한옥마을)    561382   \n",
       "71                    Beautiful Tea Museum (아름다운 차박물관)    268218   \n",
       "936  Seoul Folk Flea Market  - Traditional Arts & C...   1371199   \n",
       "480        Injeongwon - Gildong Main Branch (인정원-길동본점)    554553   \n",
       "600         Korean Museum of Straw and Life (짚풀생활사박물관)   2603951   \n",
       "790                          OME Cooking Lab (오미요리연구소)   2030936   \n",
       "\n",
       "                                              overview  distance    1  \n",
       "98   Surrounded by Gyeongbokgung Palace, Changdeokg...  0.000000   98  \n",
       "71   Located in Insa-dong, The Beautiful Tea Museum...  0.019191   71  \n",
       "936  The Traditional Arts & Crafts Studio at Seoul ...  0.037291  936  \n",
       "480  'Vietnamssam Injeongwon,' keeping the new tren...  0.047929  480  \n",
       "600  Korean Museum of Straw and Life is a private m...  0.051801  600  \n",
       "790  The ingredients used for cooking of the home m...  0.054167  790  "
      ]
     },
     "execution_count": 54,
     "metadata": {},
     "output_type": "execute_result"
    }
   ],
   "source": [
    "# 북촌한옥마을\n",
    "get_similar(98)"
   ]
  },
  {
   "cell_type": "code",
   "execution_count": 55,
   "metadata": {},
   "outputs": [
    {
     "data": {
      "text/html": [
       "<div>\n",
       "<style scoped>\n",
       "    .dataframe tbody tr th:only-of-type {\n",
       "        vertical-align: middle;\n",
       "    }\n",
       "\n",
       "    .dataframe tbody tr th {\n",
       "        vertical-align: top;\n",
       "    }\n",
       "\n",
       "    .dataframe thead th {\n",
       "        text-align: right;\n",
       "    }\n",
       "</style>\n",
       "<table border=\"1\" class=\"dataframe\">\n",
       "  <thead>\n",
       "    <tr style=\"text-align: right;\">\n",
       "      <th></th>\n",
       "      <th>title</th>\n",
       "      <th>contentid</th>\n",
       "      <th>overview</th>\n",
       "      <th>distance</th>\n",
       "      <th>1</th>\n",
       "    </tr>\n",
       "  </thead>\n",
       "  <tbody>\n",
       "    <tr>\n",
       "      <th>748</th>\n",
       "      <td>Namsan Seoul Tower (남산서울타워)</td>\n",
       "      <td>264550</td>\n",
       "      <td>Namsan Seoul Tower was the first tower-type to...</td>\n",
       "      <td>0.000000</td>\n",
       "      <td>748</td>\n",
       "    </tr>\n",
       "    <tr>\n",
       "      <th>755</th>\n",
       "      <td>Nanji Hangang Park (Nanji Camping Site) (한강시민공...</td>\n",
       "      <td>767100</td>\n",
       "      <td>As part of the Hangang Renaissance project, Na...</td>\n",
       "      <td>0.025919</td>\n",
       "      <td>755</td>\n",
       "    </tr>\n",
       "    <tr>\n",
       "      <th>161</th>\n",
       "      <td>Children’s Grand Park (서울 어린이대공원)</td>\n",
       "      <td>1051832</td>\n",
       "      <td>Situated in Gwangjin-gu, Seoul Children’s Gran...</td>\n",
       "      <td>0.038376</td>\n",
       "      <td>161</td>\n",
       "    </tr>\n",
       "    <tr>\n",
       "      <th>664</th>\n",
       "      <td>Mapo Art Center (마포아트센터)</td>\n",
       "      <td>1145438</td>\n",
       "      <td>Mapo Art Center is an innovative cultural art ...</td>\n",
       "      <td>0.041715</td>\n",
       "      <td>664</td>\n",
       "    </tr>\n",
       "    <tr>\n",
       "      <th>1043</th>\n",
       "      <td>Suraksan Mountain (수락산)</td>\n",
       "      <td>1253587</td>\n",
       "      <td>Along with the other great mountains near Seou...</td>\n",
       "      <td>0.042826</td>\n",
       "      <td>1043</td>\n",
       "    </tr>\n",
       "    <tr>\n",
       "      <th>217</th>\n",
       "      <td>Dobongsan Mountain (도봉산)</td>\n",
       "      <td>1742421</td>\n",
       "      <td>Dobongsan Mountain, located northeast of Bukha...</td>\n",
       "      <td>0.044176</td>\n",
       "      <td>217</td>\n",
       "    </tr>\n",
       "  </tbody>\n",
       "</table>\n",
       "</div>"
      ],
      "text/plain": [
       "                                                  title contentid  \\\n",
       "748                         Namsan Seoul Tower (남산서울타워)    264550   \n",
       "755   Nanji Hangang Park (Nanji Camping Site) (한강시민공...    767100   \n",
       "161                   Children’s Grand Park (서울 어린이대공원)   1051832   \n",
       "664                            Mapo Art Center (마포아트센터)   1145438   \n",
       "1043                            Suraksan Mountain (수락산)   1253587   \n",
       "217                            Dobongsan Mountain (도봉산)   1742421   \n",
       "\n",
       "                                               overview  distance     1  \n",
       "748   Namsan Seoul Tower was the first tower-type to...  0.000000   748  \n",
       "755   As part of the Hangang Renaissance project, Na...  0.025919   755  \n",
       "161   Situated in Gwangjin-gu, Seoul Children’s Gran...  0.038376   161  \n",
       "664   Mapo Art Center is an innovative cultural art ...  0.041715   664  \n",
       "1043  Along with the other great mountains near Seou...  0.042826  1043  \n",
       "217   Dobongsan Mountain, located northeast of Bukha...  0.044176   217  "
      ]
     },
     "execution_count": 55,
     "metadata": {},
     "output_type": "execute_result"
    }
   ],
   "source": [
    "# 남산서울타워\n",
    "get_similar(748)"
   ]
  },
  {
   "cell_type": "code",
   "execution_count": 56,
   "metadata": {},
   "outputs": [
    {
     "data": {
      "text/html": [
       "<div>\n",
       "<style scoped>\n",
       "    .dataframe tbody tr th:only-of-type {\n",
       "        vertical-align: middle;\n",
       "    }\n",
       "\n",
       "    .dataframe tbody tr th {\n",
       "        vertical-align: top;\n",
       "    }\n",
       "\n",
       "    .dataframe thead th {\n",
       "        text-align: right;\n",
       "    }\n",
       "</style>\n",
       "<table border=\"1\" class=\"dataframe\">\n",
       "  <thead>\n",
       "    <tr style=\"text-align: right;\">\n",
       "      <th></th>\n",
       "      <th>title</th>\n",
       "      <th>contentid</th>\n",
       "      <th>overview</th>\n",
       "      <th>distance</th>\n",
       "      <th>1</th>\n",
       "    </tr>\n",
       "  </thead>\n",
       "  <tbody>\n",
       "    <tr>\n",
       "      <th>653</th>\n",
       "      <td>Lotte World Tower Seoul Sky (롯데월드타워 서울스카이)</td>\n",
       "      <td>2493015</td>\n",
       "      <td>Seoul Sky is located on floors 117-123 of Lott...</td>\n",
       "      <td>0.000000</td>\n",
       "      <td>653</td>\n",
       "    </tr>\n",
       "    <tr>\n",
       "      <th>886</th>\n",
       "      <td>Sang Sang Tok Tok Gallery (상상톡톡 미술관)</td>\n",
       "      <td>1114538</td>\n",
       "      <td>The Children’s Gallery, located in Seoul’s ‘No...</td>\n",
       "      <td>0.043886</td>\n",
       "      <td>886</td>\n",
       "    </tr>\n",
       "    <tr>\n",
       "      <th>872</th>\n",
       "      <td>Samcheonggak (삼청각)</td>\n",
       "      <td>268177</td>\n",
       "      <td>Reflecting its name (literally the ‘House with...</td>\n",
       "      <td>0.054772</td>\n",
       "      <td>872</td>\n",
       "    </tr>\n",
       "    <tr>\n",
       "      <th>387</th>\n",
       "      <td>Hangaram Art Museum in Seoul Arts Center (예술의전...</td>\n",
       "      <td>1312802</td>\n",
       "      <td>Hangaram Art Museum, located in the left wing ...</td>\n",
       "      <td>0.058029</td>\n",
       "      <td>387</td>\n",
       "    </tr>\n",
       "    <tr>\n",
       "      <th>721</th>\n",
       "      <td>Myeongdong Nanta Theatre (명동난타극장)</td>\n",
       "      <td>651452</td>\n",
       "      <td>The Myeongdong Nanta Theatre is located on the...</td>\n",
       "      <td>0.062122</td>\n",
       "      <td>721</td>\n",
       "    </tr>\n",
       "    <tr>\n",
       "      <th>338</th>\n",
       "      <td>Gwanaksan Mountain (관악산)</td>\n",
       "      <td>1562674</td>\n",
       "      <td>At 632.2 meters in x_height, Gwanaksan Mountai...</td>\n",
       "      <td>0.066985</td>\n",
       "      <td>338</td>\n",
       "    </tr>\n",
       "  </tbody>\n",
       "</table>\n",
       "</div>"
      ],
      "text/plain": [
       "                                                 title contentid  \\\n",
       "653         Lotte World Tower Seoul Sky (롯데월드타워 서울스카이)   2493015   \n",
       "886               Sang Sang Tok Tok Gallery (상상톡톡 미술관)   1114538   \n",
       "872                                 Samcheonggak (삼청각)    268177   \n",
       "387  Hangaram Art Museum in Seoul Arts Center (예술의전...   1312802   \n",
       "721                  Myeongdong Nanta Theatre (명동난타극장)    651452   \n",
       "338                           Gwanaksan Mountain (관악산)   1562674   \n",
       "\n",
       "                                              overview  distance    1  \n",
       "653  Seoul Sky is located on floors 117-123 of Lott...  0.000000  653  \n",
       "886  The Children’s Gallery, located in Seoul’s ‘No...  0.043886  886  \n",
       "872  Reflecting its name (literally the ‘House with...  0.054772  872  \n",
       "387  Hangaram Art Museum, located in the left wing ...  0.058029  387  \n",
       "721  The Myeongdong Nanta Theatre is located on the...  0.062122  721  \n",
       "338  At 632.2 meters in x_height, Gwanaksan Mountai...  0.066985  338  "
      ]
     },
     "execution_count": 56,
     "metadata": {},
     "output_type": "execute_result"
    }
   ],
   "source": [
    "# 롯데월드타워\n",
    "get_similar(653)"
   ]
  },
  {
   "cell_type": "code",
   "execution_count": 57,
   "metadata": {},
   "outputs": [
    {
     "data": {
      "text/html": [
       "<div>\n",
       "<style scoped>\n",
       "    .dataframe tbody tr th:only-of-type {\n",
       "        vertical-align: middle;\n",
       "    }\n",
       "\n",
       "    .dataframe tbody tr th {\n",
       "        vertical-align: top;\n",
       "    }\n",
       "\n",
       "    .dataframe thead th {\n",
       "        text-align: right;\n",
       "    }\n",
       "</style>\n",
       "<table border=\"1\" class=\"dataframe\">\n",
       "  <thead>\n",
       "    <tr style=\"text-align: right;\">\n",
       "      <th></th>\n",
       "      <th>title</th>\n",
       "      <th>contentid</th>\n",
       "      <th>overview</th>\n",
       "      <th>distance</th>\n",
       "      <th>1</th>\n",
       "    </tr>\n",
       "  </thead>\n",
       "  <tbody>\n",
       "    <tr>\n",
       "      <th>359</th>\n",
       "      <td>Gyeongbokgung Palace (경복궁)</td>\n",
       "      <td>264337</td>\n",
       "      <td>Built in 1395, Gyeongbokgung Palace is also co...</td>\n",
       "      <td>0.000000</td>\n",
       "      <td>359</td>\n",
       "    </tr>\n",
       "    <tr>\n",
       "      <th>245</th>\n",
       "      <td>Doseonsa Temple (도선사)</td>\n",
       "      <td>1348684</td>\n",
       "      <td>Doseonsa Temple was established 1,100 years ag...</td>\n",
       "      <td>0.039182</td>\n",
       "      <td>245</td>\n",
       "    </tr>\n",
       "    <tr>\n",
       "      <th>964</th>\n",
       "      <td>Seoul Museum of History (서울역사박물관)</td>\n",
       "      <td>268127</td>\n",
       "      <td>Seoul Museum of History captures the tradition...</td>\n",
       "      <td>0.044058</td>\n",
       "      <td>964</td>\n",
       "    </tr>\n",
       "    <tr>\n",
       "      <th>710</th>\n",
       "      <td>Museum of Art, Seoul National University (서울대학...</td>\n",
       "      <td>1752538</td>\n",
       "      <td>Museum of Art, Seoul National University was e...</td>\n",
       "      <td>0.048159</td>\n",
       "      <td>710</td>\n",
       "    </tr>\n",
       "    <tr>\n",
       "      <th>546</th>\n",
       "      <td>Jongmyo Shrine [UNESCO World Heritage] (종묘 [유네...</td>\n",
       "      <td>264351</td>\n",
       "      <td>Jongmyo Shrine was a primary place of worship ...</td>\n",
       "      <td>0.052242</td>\n",
       "      <td>546</td>\n",
       "    </tr>\n",
       "    <tr>\n",
       "      <th>538</th>\n",
       "      <td>Jingwansa Temple (Seoul) (진관사 (서울))</td>\n",
       "      <td>1158841</td>\n",
       "      <td>Jingwansa Temple, located to the west of Seoul...</td>\n",
       "      <td>0.056457</td>\n",
       "      <td>538</td>\n",
       "    </tr>\n",
       "  </tbody>\n",
       "</table>\n",
       "</div>"
      ],
      "text/plain": [
       "                                                 title contentid  \\\n",
       "359                         Gyeongbokgung Palace (경복궁)    264337   \n",
       "245                              Doseonsa Temple (도선사)   1348684   \n",
       "964                  Seoul Museum of History (서울역사박물관)    268127   \n",
       "710  Museum of Art, Seoul National University (서울대학...   1752538   \n",
       "546  Jongmyo Shrine [UNESCO World Heritage] (종묘 [유네...    264351   \n",
       "538                Jingwansa Temple (Seoul) (진관사 (서울))   1158841   \n",
       "\n",
       "                                              overview  distance    1  \n",
       "359  Built in 1395, Gyeongbokgung Palace is also co...  0.000000  359  \n",
       "245  Doseonsa Temple was established 1,100 years ag...  0.039182  245  \n",
       "964  Seoul Museum of History captures the tradition...  0.044058  964  \n",
       "710  Museum of Art, Seoul National University was e...  0.048159  710  \n",
       "546  Jongmyo Shrine was a primary place of worship ...  0.052242  546  \n",
       "538  Jingwansa Temple, located to the west of Seoul...  0.056457  538  "
      ]
     },
     "execution_count": 57,
     "metadata": {},
     "output_type": "execute_result"
    }
   ],
   "source": [
    "# 경복궁\n",
    "get_similar(359)"
   ]
  },
  {
   "cell_type": "markdown",
   "metadata": {},
   "source": [
    "#### TF-IDF gives meaningful result about similarity between POIs, let's make a web app with this model"
   ]
  },
  {
   "cell_type": "code",
   "execution_count": null,
   "metadata": {},
   "outputs": [],
   "source": []
  }
 ],
 "metadata": {
  "kernelspec": {
   "display_name": "Python 3",
   "language": "python",
   "name": "python3"
  },
  "language_info": {
   "codemirror_mode": {
    "name": "ipython",
    "version": 3
   },
   "file_extension": ".py",
   "mimetype": "text/x-python",
   "name": "python",
   "nbconvert_exporter": "python",
   "pygments_lexer": "ipython3",
   "version": "3.7.3"
  }
 },
 "nbformat": 4,
 "nbformat_minor": 2
}
